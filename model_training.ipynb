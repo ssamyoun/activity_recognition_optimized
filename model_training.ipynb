{
  "nbformat": 4,
  "nbformat_minor": 0,
  "metadata": {
    "colab": {
      "provenance": []
    },
    "kernelspec": {
      "name": "python3",
      "display_name": "Python 3"
    }
  },
  "cells": [
    {
      "cell_type": "code",
      "metadata": {
        "id": "ObY3k3OPPOZy"
      },
      "source": [
        "import os\n",
        "import pickle\n",
        "import matplotlib.pyplot as plt\n",
        "import pandas as pd\n",
        "import numpy as np\n",
        "import glob\n",
        "from sklearn.model_selection import train_test_split\n",
        "from sklearn.tree import DecisionTreeClassifier\n",
        "from sklearn.metrics import accuracy_score\n",
        "from sklearn.metrics import confusion_matrix\n",
        "from sklearn.model_selection import KFold\n",
        "from numpy import mean, sqrt, square, arange\n",
        "from sklearn.feature_selection import chi2,RFE\n",
        "from sklearn.ensemble import RandomForestClassifier,AdaBoostClassifier\n",
        "from sklearn.svm import SVC"
      ],
      "execution_count": null,
      "outputs": []
    },
    {
      "cell_type": "code",
      "metadata": {
        "id": "cCfs080MPikP",
        "outputId": "dbec5c2c-ad18-422d-9711-a8c133ac5a58",
        "colab": {
          "base_uri": "https://localhost:8080/",
          "height": 122
        }
      },
      "source": [
        "from google.colab import drive\n",
        "drive.mount('/content/drive')\n",
        "DATA_PATH = \"/content/drive/My Drive/Colab Notebooks/ML Assignment/Data/\""
      ],
      "execution_count": null,
      "outputs": [
        {
          "output_type": "stream",
          "text": [
            "Go to this URL in a browser: https://accounts.google.com/o/oauth2/auth?client_id=947318989803-6bn6qk8qdgf4n4g3pfee6491hc0brc4i.apps.googleusercontent.com&redirect_uri=urn%3aietf%3awg%3aoauth%3a2.0%3aoob&response_type=code&scope=email%20https%3a%2f%2fwww.googleapis.com%2fauth%2fdocs.test%20https%3a%2f%2fwww.googleapis.com%2fauth%2fdrive%20https%3a%2f%2fwww.googleapis.com%2fauth%2fdrive.photos.readonly%20https%3a%2f%2fwww.googleapis.com%2fauth%2fpeopleapi.readonly\n",
            "\n",
            "Enter your authorization code:\n",
            "··········\n",
            "Mounted at /content/drive\n"
          ],
          "name": "stdout"
        }
      ]
    },
    {
      "cell_type": "code",
      "metadata": {
        "id": "hTYR8bsJSoVz",
        "outputId": "7fcd6890-7b06-43f0-cdc4-58b145f9a0bf",
        "colab": {
          "base_uri": "https://localhost:8080/",
          "height": 85
        }
      },
      "source": [
        "#read all input csv files in the data folder\n",
        "all_files = glob.glob(DATA_PATH + \"/*.csv\")\n",
        "li = []\n",
        "sampling_rate = 90\n",
        "\n",
        "for filename in all_files:\n",
        "    if (\"Sensors_\" in filename):\n",
        "      df = pd.read_csv(filename, index_col=None, header=0)\n",
        "      n_windows =  df.shape[0] - (df.shape[0]%sampling_rate)\n",
        "      df1 = df.head(n_windows)\n",
        "      print(\"Loaded File:\", filename, df.shape,n_windows,df1.shape)\n",
        "      li.append(df1)\n",
        "\n",
        "#merge data from all files\n",
        "dataframe = pd.concat(li, axis=0, ignore_index=True)"
      ],
      "execution_count": null,
      "outputs": [
        {
          "output_type": "stream",
          "text": [
            "Loaded File: /content/drive/My Drive/Colab Notebooks/ML Assignment/Data/Sensors_Handwash_1569696423 - Sensors_Handwash_1569696423.csv (6717, 5) 6660 (6660, 5)\n",
            "Loaded File: /content/drive/My Drive/Colab Notebooks/ML Assignment/Data/Sensors_Handwash_1570946941 - Sensors_Handwash_1570946941.csv (28889, 5) 28800 (28800, 5)\n",
            "Loaded File: /content/drive/My Drive/Colab Notebooks/ML Assignment/Data/Sensors_Non-wash_1569696502 - Sensors_Non-wash_1569696502.csv (39860, 5) 39780 (39780, 5)\n",
            "Loaded File: /content/drive/My Drive/Colab Notebooks/ML Assignment/Data/Sensors_Non-wash_1570946333 - Sensors_Non-wash_1570946333.csv (58189, 5) 58140 (58140, 5)\n"
          ],
          "name": "stdout"
        }
      ]
    },
    {
      "cell_type": "code",
      "metadata": {
        "id": "nCdQ66hIP5Ll",
        "outputId": "7808fd1d-7875-4d32-c641-899ff190ee4a",
        "colab": {
          "base_uri": "https://localhost:8080/",
          "height": 34
        }
      },
      "source": [
        "def get_window_mean_deviation(df, i, blocksize):\n",
        "  temp = df[i:i+blocksize].to_numpy().flatten()\n",
        "  rms = sqrt(mean(square(temp)))\n",
        "  return [np.mean(temp),np.std(temp),np.median(temp),rms]\n",
        "\n",
        "window_ln = 1\n",
        "current_column_names = \"ACC_x_mean,ACC_x_std,x_median,x_rms,ACC_y_mean,ACC_y_std,y_median,y_rms,ACC_z_mean,ACC_z_std,z_median,z_rms,Label\"\n",
        "current_column_as_array = current_column_names.split(',')\n",
        "\n",
        "#calculate number of windows\n",
        "block_size = sampling_rate * window_ln\n",
        "total_windows = dataframe.shape[0]/block_size\n",
        "\n",
        "#create a dataframe for windows\n",
        "windows_df = pd.DataFrame(index=np.arange(0, total_windows), columns=current_column_as_array)\n",
        "window_idx = 0\n",
        "i = 0\n",
        "while  i < len(dataframe):\n",
        "  #Take a window and calculate it's features (mean-deviation)\n",
        "  mean_std_acc_X = get_window_mean_deviation(dataframe['rawAccX'], i, block_size)\n",
        "  mean_std_acc_Y = get_window_mean_deviation(dataframe['rawAccY'], i, block_size)\n",
        "  mean_std_acc_Z = get_window_mean_deviation(dataframe['rawAccZ'], i, block_size)\n",
        "\n",
        "  #create a row with features and label of the window and append to dataframe\n",
        "  a = np.concatenate((mean_std_acc_X,mean_std_acc_Y,mean_std_acc_Z,dataframe['Label'][i]), axis=None)\n",
        "  windows_df.loc[window_idx] = a\n",
        "\n",
        "  #iterate to next window\n",
        "  i += block_size\n",
        "  window_idx += 1\n",
        "print(\"All Windows:\",windows_df.shape)"
      ],
      "execution_count": null,
      "outputs": [
        {
          "output_type": "stream",
          "text": [
            "All Windows: (1482, 13)\n"
          ],
          "name": "stdout"
        }
      ]
    },
    {
      "cell_type": "code",
      "metadata": {
        "id": "byLHYtyk8Agv"
      },
      "source": [
        "#optional- save windows dataframe as a csv\n",
        "windows_df.to_csv(DATA_PATH + 'FT.csv', index= False)"
      ],
      "execution_count": null,
      "outputs": []
    },
    {
      "cell_type": "code",
      "metadata": {
        "id": "JOCXLvcFk24r",
        "outputId": "ebb5ff96-91a0-436f-ee4c-68164709cf71",
        "colab": {
          "base_uri": "https://localhost:8080/",
          "height": 935
        }
      },
      "source": [
        "ft_set = [1,2,3,4,5,6]\n",
        "for no_of_top_features in ft_set:\n",
        "\n",
        "  X = windows_df.drop('Label',axis=1)\n",
        "  Y = windows_df['Label'].astype(int)\n",
        "\n",
        "  #use Recursive feature elimination\n",
        "  rfe = RFE(DecisionTreeClassifier(), no_of_top_features)\n",
        "  rfe = rfe.fit(X, Y)\n",
        "  f = rfe.get_support(1)\n",
        "  X = X[X.columns[f]]\n",
        "  columns =  list(X.columns)\n",
        "  X = windows_df[columns]\n",
        "  print(f\"Top {no_of_top_features} features are:\")\n",
        "  print(list(X)) #X has the top features\n",
        "\n",
        "  #From data, Take features in X and Label in y\n",
        "  y= windows_df.Label\n",
        "  y= y.astype('int')\n",
        "\n",
        "  #split data into training-testing sets\n",
        "  X_train, X_test, y_train, y_test = train_test_split(X, y, test_size=0.2)\n",
        "  print(X_train.shape, y_train.shape)\n",
        "  print (X_test.shape, y_test.shape)\n",
        "\n",
        "  #create a Decision Tree Classifer\n",
        "  clf = SVC(kernel = 'linear')#RandomForestClassifier()\n",
        "\n",
        "  # Train Decision Tree Classifer\n",
        "  clf = clf.fit(X_train,y_train)\n",
        "\n",
        "  #Predict the response for test dataset\n",
        "  y_pred = clf.predict(X_test)\n",
        "\n",
        "  #calculate the accuracy of prediction\n",
        "  print(f\"Performance metrics with top {no_of_top_features} features:\")\n",
        "  print(\"Accuracy is \", accuracy_score(y_test,y_pred)*100)\n",
        "  print(\"Confusion matrix is \",confusion_matrix(y_test,y_pred))\n",
        "  print(\"-------end--------------\")"
      ],
      "execution_count": null,
      "outputs": [
        {
          "output_type": "stream",
          "text": [
            "Top 1 features are:\n",
            "['ACC_x_mean']\n",
            "(1185, 1) (1185,)\n",
            "(297, 1) (297,)\n",
            "Performance metrics with top 1 features:\n",
            "Accuracy is  88.21548821548821\n",
            "Confusion matrix is  [[199  16]\n",
            " [ 19  63]]\n",
            "-------end-----\n",
            "Top 2 features are:\n",
            "['ACC_x_mean', 'y_median']\n",
            "(1185, 2) (1185,)\n",
            "(297, 2) (297,)\n",
            "Performance metrics with top 2 features:\n",
            "Accuracy is  89.56228956228956\n",
            "Confusion matrix is  [[205  15]\n",
            " [ 16  61]]\n",
            "-------end-----\n",
            "Top 3 features are:\n",
            "['ACC_x_mean', 'y_median', 'ACC_z_std']\n",
            "(1185, 3) (1185,)\n",
            "(297, 3) (297,)\n",
            "Performance metrics with top 3 features:\n",
            "Accuracy is  92.92929292929293\n",
            "Confusion matrix is  [[196  18]\n",
            " [  3  80]]\n",
            "-------end-----\n",
            "Top 4 features are:\n",
            "['ACC_x_mean', 'y_median', 'ACC_z_std', 'z_median']\n",
            "(1185, 4) (1185,)\n",
            "(297, 4) (297,)\n",
            "Performance metrics with top 4 features:\n",
            "Accuracy is  97.3063973063973\n",
            "Confusion matrix is  [[209   6]\n",
            " [  2  80]]\n",
            "-------end-----\n",
            "Top 5 features are:\n",
            "['ACC_x_mean', 'y_median', 'ACC_z_std', 'z_median', 'z_rms']\n",
            "(1185, 5) (1185,)\n",
            "(297, 5) (297,)\n",
            "Performance metrics with top 5 features:\n",
            "Accuracy is  96.96969696969697\n",
            "Confusion matrix is  [[211   5]\n",
            " [  4  77]]\n",
            "-------end-----\n",
            "Top 6 features are:\n",
            "['ACC_x_mean', 'ACC_x_std', 'ACC_y_std', 'y_median', 'ACC_z_mean', 'ACC_z_std']\n",
            "(1185, 6) (1185,)\n",
            "(297, 6) (297,)\n",
            "Performance metrics with top 6 features:\n",
            "Accuracy is  95.95959595959596\n",
            "Confusion matrix is  [[216   8]\n",
            " [  4  69]]\n",
            "-------end-----\n"
          ],
          "name": "stdout"
        }
      ]
    }
  ]
}