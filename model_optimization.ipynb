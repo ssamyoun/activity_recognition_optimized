{
  "nbformat": 4,
  "nbformat_minor": 0,
  "metadata": {
    "colab": {
      "provenance": []
    },
    "kernelspec": {
      "name": "python3",
      "display_name": "Python 3"
    }
  },
  "cells": [
    {
      "cell_type": "code",
      "metadata": {
        "id": "i-p0Njpsnb4p"
      },
      "source": [
        "!pip install -U coremltools==3.0b6 tensorflow==1.13.1 keras==2.2.4\n"
      ],
      "execution_count": null,
      "outputs": []
    },
    {
      "cell_type": "code",
      "metadata": {
        "id": "ThLkMU6QQUZ2",
        "outputId": "94e4571e-e2e0-46ba-f392-4c26e51a23a3",
        "colab": {
          "base_uri": "https://localhost:8080/",
          "height": 1000
        }
      },
      "source": [
        "!pip install -U turicreate"
      ],
      "execution_count": null,
      "outputs": [
        {
          "output_type": "stream",
          "text": [
            "Collecting turicreate\n",
            "\u001b[?25l  Downloading https://files.pythonhosted.org/packages/13/4c/6dfd74ae72bb782feb6e04663a9b5bbe28d557bbe35c70d06cb8d6ad0368/turicreate-6.1-cp36-cp36m-manylinux1_x86_64.whl (91.4MB)\n",
            "\u001b[K     |████████████████████████████████| 91.4MB 66kB/s \n",
            "\u001b[?25hRequirement already satisfied, skipping upgrade: tensorflow>=2.0.0 in /usr/local/lib/python3.6/dist-packages (from turicreate) (2.2.0rc2)\n",
            "Requirement already satisfied, skipping upgrade: numpy in /usr/local/lib/python3.6/dist-packages (from turicreate) (1.18.2)\n",
            "Requirement already satisfied, skipping upgrade: pillow>=5.2.0 in /usr/local/lib/python3.6/dist-packages (from turicreate) (7.0.0)\n",
            "Requirement already satisfied, skipping upgrade: prettytable==0.7.2 in /usr/local/lib/python3.6/dist-packages (from turicreate) (0.7.2)\n",
            "Requirement already satisfied, skipping upgrade: six>=1.10.0 in /usr/local/lib/python3.6/dist-packages (from turicreate) (1.12.0)\n",
            "Requirement already satisfied, skipping upgrade: requests>=2.9.1 in /usr/local/lib/python3.6/dist-packages (from turicreate) (2.21.0)\n",
            "Requirement already satisfied, skipping upgrade: pandas>=0.23.2 in /usr/local/lib/python3.6/dist-packages (from turicreate) (1.0.3)\n",
            "Collecting resampy==0.2.1\n",
            "\u001b[?25l  Downloading https://files.pythonhosted.org/packages/14/b6/66a06d85474190b50aee1a6c09cdc95bb405ac47338b27e9b21409da1760/resampy-0.2.1.tar.gz (322kB)\n",
            "\u001b[K     |████████████████████████████████| 327kB 43.4MB/s \n",
            "\u001b[?25hCollecting coremltools==3.3\n",
            "\u001b[?25l  Downloading https://files.pythonhosted.org/packages/77/19/611916d1ef326d38857d93af5ba184f6ad7491642e0fa4f9082e7d82f034/coremltools-3.3-cp36-none-manylinux1_x86_64.whl (3.4MB)\n",
            "\u001b[K     |████████████████████████████████| 3.4MB 40.9MB/s \n",
            "\u001b[?25hRequirement already satisfied, skipping upgrade: decorator>=4.0.9 in /usr/local/lib/python3.6/dist-packages (from turicreate) (4.4.2)\n",
            "Requirement already satisfied, skipping upgrade: scipy>=1.1.0 in /usr/local/lib/python3.6/dist-packages (from turicreate) (1.4.1)\n",
            "Requirement already satisfied, skipping upgrade: absl-py>=0.7.0 in /usr/local/lib/python3.6/dist-packages (from tensorflow>=2.0.0->turicreate) (0.9.0)\n",
            "Requirement already satisfied, skipping upgrade: gast==0.3.3 in /usr/local/lib/python3.6/dist-packages (from tensorflow>=2.0.0->turicreate) (0.3.3)\n",
            "Requirement already satisfied, skipping upgrade: google-pasta>=0.1.8 in /usr/local/lib/python3.6/dist-packages (from tensorflow>=2.0.0->turicreate) (0.2.0)\n",
            "Requirement already satisfied, skipping upgrade: opt-einsum>=2.3.2 in /usr/local/lib/python3.6/dist-packages (from tensorflow>=2.0.0->turicreate) (3.2.0)\n",
            "Requirement already satisfied, skipping upgrade: keras-preprocessing>=1.1.0 in /usr/local/lib/python3.6/dist-packages (from tensorflow>=2.0.0->turicreate) (1.1.0)\n",
            "Requirement already satisfied, skipping upgrade: tensorboard<2.3.0,>=2.2.0 in /usr/local/lib/python3.6/dist-packages (from tensorflow>=2.0.0->turicreate) (2.2.0)\n",
            "Requirement already satisfied, skipping upgrade: grpcio>=1.8.6 in /usr/local/lib/python3.6/dist-packages (from tensorflow>=2.0.0->turicreate) (1.27.2)\n",
            "Requirement already satisfied, skipping upgrade: protobuf>=3.8.0 in /usr/local/lib/python3.6/dist-packages (from tensorflow>=2.0.0->turicreate) (3.10.0)\n",
            "Requirement already satisfied, skipping upgrade: wheel>=0.26; python_version >= \"3\" in /usr/local/lib/python3.6/dist-packages (from tensorflow>=2.0.0->turicreate) (0.34.2)\n",
            "Requirement already satisfied, skipping upgrade: termcolor>=1.1.0 in /usr/local/lib/python3.6/dist-packages (from tensorflow>=2.0.0->turicreate) (1.1.0)\n",
            "Requirement already satisfied, skipping upgrade: h5py<2.11.0,>=2.10.0 in /usr/local/lib/python3.6/dist-packages (from tensorflow>=2.0.0->turicreate) (2.10.0)\n",
            "Requirement already satisfied, skipping upgrade: wrapt>=1.11.1 in /usr/local/lib/python3.6/dist-packages (from tensorflow>=2.0.0->turicreate) (1.12.1)\n",
            "Requirement already satisfied, skipping upgrade: tensorflow-estimator<2.3.0,>=2.2.0rc0 in /usr/local/lib/python3.6/dist-packages (from tensorflow>=2.0.0->turicreate) (2.2.0rc0)\n",
            "Requirement already satisfied, skipping upgrade: astunparse==1.6.3 in /usr/local/lib/python3.6/dist-packages (from tensorflow>=2.0.0->turicreate) (1.6.3)\n",
            "Requirement already satisfied, skipping upgrade: chardet<3.1.0,>=3.0.2 in /usr/local/lib/python3.6/dist-packages (from requests>=2.9.1->turicreate) (3.0.4)\n",
            "Requirement already satisfied, skipping upgrade: certifi>=2017.4.17 in /usr/local/lib/python3.6/dist-packages (from requests>=2.9.1->turicreate) (2019.11.28)\n",
            "Requirement already satisfied, skipping upgrade: idna<2.9,>=2.5 in /usr/local/lib/python3.6/dist-packages (from requests>=2.9.1->turicreate) (2.8)\n",
            "Requirement already satisfied, skipping upgrade: urllib3<1.25,>=1.21.1 in /usr/local/lib/python3.6/dist-packages (from requests>=2.9.1->turicreate) (1.24.3)\n",
            "Requirement already satisfied, skipping upgrade: python-dateutil>=2.6.1 in /usr/local/lib/python3.6/dist-packages (from pandas>=0.23.2->turicreate) (2.8.1)\n",
            "Requirement already satisfied, skipping upgrade: pytz>=2017.2 in /usr/local/lib/python3.6/dist-packages (from pandas>=0.23.2->turicreate) (2018.9)\n",
            "Requirement already satisfied, skipping upgrade: numba>=0.32 in /usr/local/lib/python3.6/dist-packages (from resampy==0.2.1->turicreate) (0.47.0)\n",
            "Requirement already satisfied, skipping upgrade: google-auth-oauthlib<0.5,>=0.4.1 in /usr/local/lib/python3.6/dist-packages (from tensorboard<2.3.0,>=2.2.0->tensorflow>=2.0.0->turicreate) (0.4.1)\n",
            "Requirement already satisfied, skipping upgrade: markdown>=2.6.8 in /usr/local/lib/python3.6/dist-packages (from tensorboard<2.3.0,>=2.2.0->tensorflow>=2.0.0->turicreate) (3.2.1)\n",
            "Requirement already satisfied, skipping upgrade: tensorboard-plugin-wit>=1.6.0 in /usr/local/lib/python3.6/dist-packages (from tensorboard<2.3.0,>=2.2.0->tensorflow>=2.0.0->turicreate) (1.6.0.post2)\n",
            "Requirement already satisfied, skipping upgrade: setuptools>=41.0.0 in /usr/local/lib/python3.6/dist-packages (from tensorboard<2.3.0,>=2.2.0->tensorflow>=2.0.0->turicreate) (46.0.0)\n",
            "Requirement already satisfied, skipping upgrade: werkzeug>=0.11.15 in /usr/local/lib/python3.6/dist-packages (from tensorboard<2.3.0,>=2.2.0->tensorflow>=2.0.0->turicreate) (1.0.1)\n",
            "Requirement already satisfied, skipping upgrade: google-auth<2,>=1.6.3 in /usr/local/lib/python3.6/dist-packages (from tensorboard<2.3.0,>=2.2.0->tensorflow>=2.0.0->turicreate) (1.7.2)\n",
            "Requirement already satisfied, skipping upgrade: llvmlite>=0.31.0dev0 in /usr/local/lib/python3.6/dist-packages (from numba>=0.32->resampy==0.2.1->turicreate) (0.31.0)\n",
            "Requirement already satisfied, skipping upgrade: requests-oauthlib>=0.7.0 in /usr/local/lib/python3.6/dist-packages (from google-auth-oauthlib<0.5,>=0.4.1->tensorboard<2.3.0,>=2.2.0->tensorflow>=2.0.0->turicreate) (1.3.0)\n",
            "Requirement already satisfied, skipping upgrade: cachetools<3.2,>=2.0.0 in /usr/local/lib/python3.6/dist-packages (from google-auth<2,>=1.6.3->tensorboard<2.3.0,>=2.2.0->tensorflow>=2.0.0->turicreate) (3.1.1)\n",
            "Requirement already satisfied, skipping upgrade: pyasn1-modules>=0.2.1 in /usr/local/lib/python3.6/dist-packages (from google-auth<2,>=1.6.3->tensorboard<2.3.0,>=2.2.0->tensorflow>=2.0.0->turicreate) (0.2.8)\n",
            "Requirement already satisfied, skipping upgrade: rsa<4.1,>=3.1.4 in /usr/local/lib/python3.6/dist-packages (from google-auth<2,>=1.6.3->tensorboard<2.3.0,>=2.2.0->tensorflow>=2.0.0->turicreate) (4.0)\n",
            "Requirement already satisfied, skipping upgrade: oauthlib>=3.0.0 in /usr/local/lib/python3.6/dist-packages (from requests-oauthlib>=0.7.0->google-auth-oauthlib<0.5,>=0.4.1->tensorboard<2.3.0,>=2.2.0->tensorflow>=2.0.0->turicreate) (3.1.0)\n",
            "Requirement already satisfied, skipping upgrade: pyasn1<0.5.0,>=0.4.6 in /usr/local/lib/python3.6/dist-packages (from pyasn1-modules>=0.2.1->google-auth<2,>=1.6.3->tensorboard<2.3.0,>=2.2.0->tensorflow>=2.0.0->turicreate) (0.4.8)\n",
            "Building wheels for collected packages: resampy\n",
            "  Building wheel for resampy (setup.py) ... \u001b[?25l\u001b[?25hdone\n",
            "  Created wheel for resampy: filename=resampy-0.2.1-cp36-none-any.whl size=320850 sha256=c3f3477d9c492e6e5421c40569969235b5ede460bbb7900ee55a4f9c1dc6852a\n",
            "  Stored in directory: /root/.cache/pip/wheels/ff/4f/ed/2e6c676c23efe5394bb40ade50662e90eb46e29b48324c5f9b\n",
            "Successfully built resampy\n",
            "Installing collected packages: resampy, coremltools, turicreate\n",
            "  Found existing installation: resampy 0.2.2\n",
            "    Uninstalling resampy-0.2.2:\n",
            "      Successfully uninstalled resampy-0.2.2\n",
            "Successfully installed coremltools-3.3 resampy-0.2.1 turicreate-6.1\n"
          ],
          "name": "stdout"
        }
      ]
    },
    {
      "cell_type": "code",
      "metadata": {
        "id": "c6BBn1d5i0Di",
        "outputId": "3b8f1ed3-e516-41f6-d042-05d35913b1c7",
        "colab": {
          "base_uri": "https://localhost:8080/",
          "height": 34
        }
      },
      "source": [
        "import numpy as np\n",
        "import pickle\n",
        "import os\n",
        "import sys\n",
        "import glob\n",
        "import pandas as pd\n",
        "import turicreate as tc\n",
        "from pathlib import Path\n",
        "from keras.models import Sequential\n",
        "from keras.layers import Dense,Flatten,Dropout,LSTM,Bidirectional\n",
        "from keras.utils import to_categorical\n",
        "from sklearn.metrics import mean_squared_error, mean_absolute_error, accuracy_score"
      ],
      "execution_count": null,
      "outputs": [
        {
          "output_type": "stream",
          "text": [
            "Using TensorFlow backend.\n"
          ],
          "name": "stderr"
        }
      ]
    },
    {
      "cell_type": "code",
      "metadata": {
        "id": "RVa0Pn-Lnxjl",
        "outputId": "8e5b6220-acd0-4cee-adfe-c583bd669d4f",
        "colab": {
          "base_uri": "https://localhost:8080/",
          "height": 122
        }
      },
      "source": [
        "from google.colab import drive\n",
        "drive.mount('/content/drive')\n",
        "DATA_PATH = \"/content/drive/My Drive/Colab Notebooks/HW/Prev/Data/Session/\""
      ],
      "execution_count": null,
      "outputs": [
        {
          "output_type": "stream",
          "text": [
            "Go to this URL in a browser: https://accounts.google.com/o/oauth2/auth?client_id=947318989803-6bn6qk8qdgf4n4g3pfee6491hc0brc4i.apps.googleusercontent.com&redirect_uri=urn%3aietf%3awg%3aoauth%3a2.0%3aoob&response_type=code&scope=email%20https%3a%2f%2fwww.googleapis.com%2fauth%2fdocs.test%20https%3a%2f%2fwww.googleapis.com%2fauth%2fdrive%20https%3a%2f%2fwww.googleapis.com%2fauth%2fdrive.photos.readonly%20https%3a%2f%2fwww.googleapis.com%2fauth%2fpeopleapi.readonly\n",
            "\n",
            "Enter your authorization code:\n",
            "··········\n",
            "Mounted at /content/drive\n"
          ],
          "name": "stdout"
        }
      ]
    },
    {
      "cell_type": "code",
      "metadata": {
        "id": "emy6--z5QvNC"
      },
      "source": [
        "#START TURI\n",
        "DATA_PATH = \"/content/drive/My Drive/Colab Notebooks/HW/Prev/Data/Session/\""
      ],
      "execution_count": null,
      "outputs": []
    },
    {
      "cell_type": "code",
      "metadata": {
        "id": "Ur3XDPV3Qww_"
      },
      "source": [
        "def read_pkl(filename):\n",
        "  with open(filename, 'rb') as file:\n",
        "    data = pickle.load(file, encoding='latin1')\n",
        "    return data\n",
        "\n",
        "def write_pkl(filename, dict):\n",
        "  with open(filename, 'wb') as file:\n",
        "    pickle.dump(dict, file)\n",
        "\n",
        "def get_label_for_time(time,annots):\n",
        "  for index, row in annots.iterrows():\n",
        "    tm = int(row['time'])\n",
        "    stm = int(row['start_time'])\n",
        "    etm = int(row['end_time'])\n",
        "    cd = int(row['code'])\n",
        "    if cd == 101 or cd == 102 or cd == 103:\n",
        "      if time >= tm and time <= etm:\n",
        "        return 1\n",
        "  return 0\n",
        "\n",
        "def populate_df(sessionId,df,sensor,annots,containsHW): #returns 2D list\n",
        "  idx = 0\n",
        "  for index, row in sensor.iterrows():\n",
        "    lbl = 0\n",
        "    if containsHW == True:\n",
        "      lbl = get_label_for_time(row[\"time\"],annots)\n",
        "    df.loc[idx] = [sessionId,row[\"userAccX\"],row[\"userAccY\"],row[\"userAccZ\"],row[\"gravX\"],row[\"gravY\"],row[\"gravZ\"],row[\"rotatX\"],row[\"rotatY\"],row[\"rotatZ\"],lbl]\n",
        "    idx += 1\n",
        "\n",
        "  return df"
      ],
      "execution_count": null,
      "outputs": []
    },
    {
      "cell_type": "code",
      "metadata": {
        "id": "wHuYFw_ASaYj",
        "outputId": "50e9e371-353b-4ccb-c063-2efa7bc5ba47",
        "colab": {
          "base_uri": "https://localhost:8080/",
          "height": 952
        }
      },
      "source": [
        "#Skip this- all done and saved\n",
        "all_raw_files = glob.glob(DATA_PATH + \"*.pkl\")\n",
        "cols = ['SessionId','AccX','AccY','AccZ','GravX','GravY','GravZ','RotX','RotY','RotZ','Activity']\n",
        "l_df = pd.DataFrame(columns=cols)\n",
        "r_df = pd.DataFrame(columns=cols)\n",
        "\n",
        "for filename in all_raw_files:\n",
        "  fn_parts = str(Path(filename).resolve().stem).split('_')\n",
        "  sessionId = int(fn_parts[0])\n",
        "  print(\"...Inside session\", str(Path(filename).resolve().stem))\n",
        "  data = read_pkl(filename)\n",
        "  lsensor = data['left_sensors']['imu']\n",
        "  rsensor = data['right_sensors']['imu']\n",
        "  annots = data['annotations']\n",
        "  containsHW = True\n",
        "  if fn_parts[2] == 'nhw':\n",
        "    containsHW = False\n",
        "  l_df = populate_df(sessionId,l_df,lsensor,annots,containsHW)\n",
        "  print(\"left sensor done\")\n",
        "  r_df = populate_df(sessionId,r_df,rsensor,annots,containsHW)\n",
        "  print(\"right sensor done\")\n",
        "  l_df.to_csv(DATA_PATH + str(sessionId) +'_left.csv', index= False)\n",
        "  r_df.to_csv(DATA_PATH + str(sessionId) +'_right.csv', index= False)\n",
        "\n",
        "print(\"Over\")"
      ],
      "execution_count": null,
      "outputs": [
        {
          "output_type": "stream",
          "text": [
            "...Inside session 1_ab_1\n",
            "left sensor done\n",
            "right sensor done\n",
            "...Inside session 2_ab_2\n",
            "left sensor done\n",
            "right sensor done\n",
            "...Inside session 3_ab_3\n",
            "left sensor done\n",
            "right sensor done\n",
            "...Inside session 4_az_1\n",
            "left sensor done\n",
            "right sensor done\n",
            "...Inside session 5_az_2\n",
            "left sensor done\n",
            "right sensor done\n",
            "...Inside session 6_em_1\n",
            "left sensor done\n",
            "right sensor done\n",
            "...Inside session 7_em_2\n",
            "left sensor done\n",
            "right sensor done\n",
            "...Inside session 8_li_2\n",
            "left sensor done\n",
            "right sensor done\n",
            "...Inside session 9_li_3\n",
            "left sensor done\n",
            "right sensor done\n",
            "...Inside session 10_li_4\n",
            "left sensor done\n",
            "right sensor done\n",
            "...Inside session 11_li_5\n",
            "left sensor done\n",
            "right sensor done\n",
            "...Inside session 12_si_1\n",
            "left sensor done\n",
            "right sensor done\n",
            "...Inside session 13_si_2\n",
            "left sensor done\n",
            "right sensor done\n",
            "...Inside session 14_si_3\n",
            "left sensor done\n",
            "right sensor done\n",
            "...Inside session 16_si_nhw_2\n",
            "left sensor done\n",
            "right sensor done\n",
            "...Inside session 15_li_1\n",
            "left sensor done\n",
            "right sensor done\n",
            "...Inside session 17_si_nhw_1\n",
            "left sensor done\n",
            "right sensor done\n",
            "...Inside session 18_em_3\n",
            "left sensor done\n",
            "right sensor done\n",
            "Over\n"
          ],
          "name": "stdout"
        }
      ]
    },
    {
      "cell_type": "code",
      "metadata": {
        "id": "7NorHWKHYN90",
        "colab": {
          "base_uri": "https://localhost:8080/",
          "height": 629
        },
        "outputId": "fa32dba3-df4e-46b7-8cf4-2223b51906e3"
      },
      "source": [
        "all_csv_files = glob.glob(DATA_PATH + \"/*.csv\")\n",
        "l_dfs = []\n",
        "r_dfs = []\n",
        "\n",
        "for filename in all_csv_files:\n",
        "    df = pd.read_csv(filename, index_col=None, header=0)\n",
        "    print(\"Loaded File:\", filename, df.shape)\n",
        "    if (\"left\" in filename):\n",
        "      l_dfs.append(df)\n",
        "    elif (\"right\" in filename):\n",
        "      r_dfs.append(df)\n",
        "\n",
        "#merge data from all files\n",
        "l_df = pd.concat(l_dfs, axis=0, ignore_index=True)\n",
        "r_df = pd.concat(r_dfs, axis=0, ignore_index=True)"
      ],
      "execution_count": null,
      "outputs": [
        {
          "output_type": "stream",
          "text": [
            "Loaded File: /content/drive/My Drive/Colab Notebooks/HW/Prev/Data/Session/1_left.csv (44070, 11)\n",
            "Loaded File: /content/drive/My Drive/Colab Notebooks/HW/Prev/Data/Session/1_right.csv (44163, 11)\n",
            "Loaded File: /content/drive/My Drive/Colab Notebooks/HW/Prev/Data/Session/2_left.csv (44070, 11)\n",
            "Loaded File: /content/drive/My Drive/Colab Notebooks/HW/Prev/Data/Session/2_right.csv (44163, 11)\n",
            "Loaded File: /content/drive/My Drive/Colab Notebooks/HW/Prev/Data/Session/3_left.csv (44070, 11)\n",
            "Loaded File: /content/drive/My Drive/Colab Notebooks/HW/Prev/Data/Session/3_right.csv (44163, 11)\n",
            "Loaded File: /content/drive/My Drive/Colab Notebooks/HW/Prev/Data/Session/4_left.csv (44070, 11)\n",
            "Loaded File: /content/drive/My Drive/Colab Notebooks/HW/Prev/Data/Session/4_right.csv (44163, 11)\n",
            "Loaded File: /content/drive/My Drive/Colab Notebooks/HW/Prev/Data/Session/5_left.csv (44070, 11)\n",
            "Loaded File: /content/drive/My Drive/Colab Notebooks/HW/Prev/Data/Session/5_right.csv (44163, 11)\n",
            "Loaded File: /content/drive/My Drive/Colab Notebooks/HW/Prev/Data/Session/6_left.csv (44070, 11)\n",
            "Loaded File: /content/drive/My Drive/Colab Notebooks/HW/Prev/Data/Session/6_right.csv (44163, 11)\n",
            "Loaded File: /content/drive/My Drive/Colab Notebooks/HW/Prev/Data/Session/7_left.csv (44070, 11)\n",
            "Loaded File: /content/drive/My Drive/Colab Notebooks/HW/Prev/Data/Session/7_right.csv (44163, 11)\n",
            "Loaded File: /content/drive/My Drive/Colab Notebooks/HW/Prev/Data/Session/8_left.csv (44070, 11)\n",
            "Loaded File: /content/drive/My Drive/Colab Notebooks/HW/Prev/Data/Session/8_right.csv (44163, 11)\n",
            "Loaded File: /content/drive/My Drive/Colab Notebooks/HW/Prev/Data/Session/9_left.csv (44070, 11)\n",
            "Loaded File: /content/drive/My Drive/Colab Notebooks/HW/Prev/Data/Session/9_right.csv (44163, 11)\n",
            "Loaded File: /content/drive/My Drive/Colab Notebooks/HW/Prev/Data/Session/10_left.csv (44070, 11)\n",
            "Loaded File: /content/drive/My Drive/Colab Notebooks/HW/Prev/Data/Session/10_right.csv (44163, 11)\n",
            "Loaded File: /content/drive/My Drive/Colab Notebooks/HW/Prev/Data/Session/11_left.csv (44070, 11)\n",
            "Loaded File: /content/drive/My Drive/Colab Notebooks/HW/Prev/Data/Session/11_right.csv (44163, 11)\n",
            "Loaded File: /content/drive/My Drive/Colab Notebooks/HW/Prev/Data/Session/12_left.csv (44070, 11)\n",
            "Loaded File: /content/drive/My Drive/Colab Notebooks/HW/Prev/Data/Session/12_right.csv (44163, 11)\n",
            "Loaded File: /content/drive/My Drive/Colab Notebooks/HW/Prev/Data/Session/13_left.csv (44070, 11)\n",
            "Loaded File: /content/drive/My Drive/Colab Notebooks/HW/Prev/Data/Session/13_right.csv (44163, 11)\n",
            "Loaded File: /content/drive/My Drive/Colab Notebooks/HW/Prev/Data/Session/14_left.csv (44070, 11)\n",
            "Loaded File: /content/drive/My Drive/Colab Notebooks/HW/Prev/Data/Session/14_right.csv (44163, 11)\n",
            "Loaded File: /content/drive/My Drive/Colab Notebooks/HW/Prev/Data/Session/16_left.csv (44070, 11)\n",
            "Loaded File: /content/drive/My Drive/Colab Notebooks/HW/Prev/Data/Session/16_right.csv (44163, 11)\n",
            "Loaded File: /content/drive/My Drive/Colab Notebooks/HW/Prev/Data/Session/15_left.csv (44070, 11)\n",
            "Loaded File: /content/drive/My Drive/Colab Notebooks/HW/Prev/Data/Session/15_right.csv (44163, 11)\n",
            "Loaded File: /content/drive/My Drive/Colab Notebooks/HW/Prev/Data/Session/17_left.csv (250778, 11)\n",
            "Loaded File: /content/drive/My Drive/Colab Notebooks/HW/Prev/Data/Session/17_right.csv (253768, 11)\n",
            "Loaded File: /content/drive/My Drive/Colab Notebooks/HW/Prev/Data/Session/18_left.csv (250778, 11)\n",
            "Loaded File: /content/drive/My Drive/Colab Notebooks/HW/Prev/Data/Session/18_right.csv (253768, 11)\n"
          ],
          "name": "stdout"
        }
      ]
    },
    {
      "cell_type": "code",
      "metadata": {
        "id": "tTKW6QSGaVqW",
        "colab": {
          "base_uri": "https://localhost:8080/",
          "height": 34
        },
        "outputId": "1bb6c078-c8ed-4535-e38d-d6d69cbab97d"
      },
      "source": [
        "print(r_df.shape, l_df.shape)"
      ],
      "execution_count": null,
      "outputs": [
        {
          "output_type": "stream",
          "text": [
            "(1214144, 11) (1206676, 11)\n"
          ],
          "name": "stdout"
        }
      ]
    },
    {
      "cell_type": "code",
      "metadata": {
        "id": "_DrugTjbj4LL",
        "outputId": "119d1800-84c1-411c-cb2f-b9ad470385b7",
        "colab": {
          "base_uri": "https://localhost:8080/",
          "height": 701
        }
      },
      "source": [
        "l_sf = tc.SFrame(data=l_df) #tc.SFrame.read_csv(DATA_PATH + 'left_DF.csv')\n",
        "l_sf"
      ],
      "execution_count": null,
      "outputs": [
        {
          "output_type": "execute_result",
          "data": {
            "text/html": [
              "<div style=\"max-height:1000px;max-width:1500px;overflow:auto;\"><table frame=\"box\" rules=\"cols\">\n",
              "    <tr>\n",
              "        <th style=\"padding-left: 1em; padding-right: 1em; text-align: center\">SessionId</th>\n",
              "        <th style=\"padding-left: 1em; padding-right: 1em; text-align: center\">AccX</th>\n",
              "        <th style=\"padding-left: 1em; padding-right: 1em; text-align: center\">AccY</th>\n",
              "        <th style=\"padding-left: 1em; padding-right: 1em; text-align: center\">AccZ</th>\n",
              "        <th style=\"padding-left: 1em; padding-right: 1em; text-align: center\">GravX</th>\n",
              "    </tr>\n",
              "    <tr>\n",
              "        <td style=\"padding-left: 1em; padding-right: 1em; text-align: center; vertical-align: top\">1.0</td>\n",
              "        <td style=\"padding-left: 1em; padding-right: 1em; text-align: center; vertical-align: top\">-0.01457</td>\n",
              "        <td style=\"padding-left: 1em; padding-right: 1em; text-align: center; vertical-align: top\">0.015309999999999999</td>\n",
              "        <td style=\"padding-left: 1em; padding-right: 1em; text-align: center; vertical-align: top\">-0.00562</td>\n",
              "        <td style=\"padding-left: 1em; padding-right: 1em; text-align: center; vertical-align: top\">0.39760999999999996</td>\n",
              "    </tr>\n",
              "    <tr>\n",
              "        <td style=\"padding-left: 1em; padding-right: 1em; text-align: center; vertical-align: top\">1.0</td>\n",
              "        <td style=\"padding-left: 1em; padding-right: 1em; text-align: center; vertical-align: top\">-0.01925</td>\n",
              "        <td style=\"padding-left: 1em; padding-right: 1em; text-align: center; vertical-align: top\">-0.00365</td>\n",
              "        <td style=\"padding-left: 1em; padding-right: 1em; text-align: center; vertical-align: top\">-0.007659999999999999</td>\n",
              "        <td style=\"padding-left: 1em; padding-right: 1em; text-align: center; vertical-align: top\">0.39834</td>\n",
              "    </tr>\n",
              "    <tr>\n",
              "        <td style=\"padding-left: 1em; padding-right: 1em; text-align: center; vertical-align: top\">1.0</td>\n",
              "        <td style=\"padding-left: 1em; padding-right: 1em; text-align: center; vertical-align: top\">-0.00446</td>\n",
              "        <td style=\"padding-left: 1em; padding-right: 1em; text-align: center; vertical-align: top\">0.00946</td>\n",
              "        <td style=\"padding-left: 1em; padding-right: 1em; text-align: center; vertical-align: top\">-0.010790000000000001</td>\n",
              "        <td style=\"padding-left: 1em; padding-right: 1em; text-align: center; vertical-align: top\">0.39919</td>\n",
              "    </tr>\n",
              "    <tr>\n",
              "        <td style=\"padding-left: 1em; padding-right: 1em; text-align: center; vertical-align: top\">1.0</td>\n",
              "        <td style=\"padding-left: 1em; padding-right: 1em; text-align: center; vertical-align: top\">0.00168</td>\n",
              "        <td style=\"padding-left: 1em; padding-right: 1em; text-align: center; vertical-align: top\">0.01207</td>\n",
              "        <td style=\"padding-left: 1em; padding-right: 1em; text-align: center; vertical-align: top\">-0.01</td>\n",
              "        <td style=\"padding-left: 1em; padding-right: 1em; text-align: center; vertical-align: top\">0.3999</td>\n",
              "    </tr>\n",
              "    <tr>\n",
              "        <td style=\"padding-left: 1em; padding-right: 1em; text-align: center; vertical-align: top\">1.0</td>\n",
              "        <td style=\"padding-left: 1em; padding-right: 1em; text-align: center; vertical-align: top\">0.0035399999999999997</td>\n",
              "        <td style=\"padding-left: 1em; padding-right: 1em; text-align: center; vertical-align: top\">0.009609999999999999</td>\n",
              "        <td style=\"padding-left: 1em; padding-right: 1em; text-align: center; vertical-align: top\">-0.02445</td>\n",
              "        <td style=\"padding-left: 1em; padding-right: 1em; text-align: center; vertical-align: top\">0.39998</td>\n",
              "    </tr>\n",
              "    <tr>\n",
              "        <td style=\"padding-left: 1em; padding-right: 1em; text-align: center; vertical-align: top\">1.0</td>\n",
              "        <td style=\"padding-left: 1em; padding-right: 1em; text-align: center; vertical-align: top\">0.18175999999999998</td>\n",
              "        <td style=\"padding-left: 1em; padding-right: 1em; text-align: center; vertical-align: top\">0.06651</td>\n",
              "        <td style=\"padding-left: 1em; padding-right: 1em; text-align: center; vertical-align: top\">0.00758</td>\n",
              "        <td style=\"padding-left: 1em; padding-right: 1em; text-align: center; vertical-align: top\">0.40058</td>\n",
              "    </tr>\n",
              "    <tr>\n",
              "        <td style=\"padding-left: 1em; padding-right: 1em; text-align: center; vertical-align: top\">1.0</td>\n",
              "        <td style=\"padding-left: 1em; padding-right: 1em; text-align: center; vertical-align: top\">-0.00625</td>\n",
              "        <td style=\"padding-left: 1em; padding-right: 1em; text-align: center; vertical-align: top\">0.02513</td>\n",
              "        <td style=\"padding-left: 1em; padding-right: 1em; text-align: center; vertical-align: top\">-0.02546</td>\n",
              "        <td style=\"padding-left: 1em; padding-right: 1em; text-align: center; vertical-align: top\">0.40005</td>\n",
              "    </tr>\n",
              "    <tr>\n",
              "        <td style=\"padding-left: 1em; padding-right: 1em; text-align: center; vertical-align: top\">1.0</td>\n",
              "        <td style=\"padding-left: 1em; padding-right: 1em; text-align: center; vertical-align: top\">0.00881</td>\n",
              "        <td style=\"padding-left: 1em; padding-right: 1em; text-align: center; vertical-align: top\">0.00139</td>\n",
              "        <td style=\"padding-left: 1em; padding-right: 1em; text-align: center; vertical-align: top\">-0.006409999999999999</td>\n",
              "        <td style=\"padding-left: 1em; padding-right: 1em; text-align: center; vertical-align: top\">0.39958</td>\n",
              "    </tr>\n",
              "    <tr>\n",
              "        <td style=\"padding-left: 1em; padding-right: 1em; text-align: center; vertical-align: top\">1.0</td>\n",
              "        <td style=\"padding-left: 1em; padding-right: 1em; text-align: center; vertical-align: top\">0.00645</td>\n",
              "        <td style=\"padding-left: 1em; padding-right: 1em; text-align: center; vertical-align: top\">0.00569</td>\n",
              "        <td style=\"padding-left: 1em; padding-right: 1em; text-align: center; vertical-align: top\">0.00295</td>\n",
              "        <td style=\"padding-left: 1em; padding-right: 1em; text-align: center; vertical-align: top\">0.39903</td>\n",
              "    </tr>\n",
              "    <tr>\n",
              "        <td style=\"padding-left: 1em; padding-right: 1em; text-align: center; vertical-align: top\">1.0</td>\n",
              "        <td style=\"padding-left: 1em; padding-right: 1em; text-align: center; vertical-align: top\">-0.1157</td>\n",
              "        <td style=\"padding-left: 1em; padding-right: 1em; text-align: center; vertical-align: top\">-0.04278</td>\n",
              "        <td style=\"padding-left: 1em; padding-right: 1em; text-align: center; vertical-align: top\">-0.00954</td>\n",
              "        <td style=\"padding-left: 1em; padding-right: 1em; text-align: center; vertical-align: top\">0.47236999999999996</td>\n",
              "    </tr>\n",
              "</table>\n",
              "<table frame=\"box\" rules=\"cols\">\n",
              "    <tr>\n",
              "        <th style=\"padding-left: 1em; padding-right: 1em; text-align: center\">GravY</th>\n",
              "        <th style=\"padding-left: 1em; padding-right: 1em; text-align: center\">GravZ</th>\n",
              "        <th style=\"padding-left: 1em; padding-right: 1em; text-align: center\">RotX</th>\n",
              "        <th style=\"padding-left: 1em; padding-right: 1em; text-align: center\">RotY</th>\n",
              "        <th style=\"padding-left: 1em; padding-right: 1em; text-align: center\">RotZ</th>\n",
              "    </tr>\n",
              "    <tr>\n",
              "        <td style=\"padding-left: 1em; padding-right: 1em; text-align: center; vertical-align: top\">-0.4212</td>\n",
              "        <td style=\"padding-left: 1em; padding-right: 1em; text-align: center; vertical-align: top\">-0.81517</td>\n",
              "        <td style=\"padding-left: 1em; padding-right: 1em; text-align: center; vertical-align: top\">0.00685</td>\n",
              "        <td style=\"padding-left: 1em; padding-right: 1em; text-align: center; vertical-align: top\">0.03171</td>\n",
              "        <td style=\"padding-left: 1em; padding-right: 1em; text-align: center; vertical-align: top\">-0.026369999999999998</td>\n",
              "    </tr>\n",
              "    <tr>\n",
              "        <td style=\"padding-left: 1em; padding-right: 1em; text-align: center; vertical-align: top\">-0.42073999999999995</td>\n",
              "        <td style=\"padding-left: 1em; padding-right: 1em; text-align: center; vertical-align: top\">-0.81505</td>\n",
              "        <td style=\"padding-left: 1em; padding-right: 1em; text-align: center; vertical-align: top\">-0.03537</td>\n",
              "        <td style=\"padding-left: 1em; padding-right: 1em; text-align: center; vertical-align: top\">0.04056</td>\n",
              "        <td style=\"padding-left: 1em; padding-right: 1em; text-align: center; vertical-align: top\">-0.01355</td>\n",
              "    </tr>\n",
              "    <tr>\n",
              "        <td style=\"padding-left: 1em; padding-right: 1em; text-align: center; vertical-align: top\">-0.42026</td>\n",
              "        <td style=\"padding-left: 1em; padding-right: 1em; text-align: center; vertical-align: top\">-0.81488</td>\n",
              "        <td style=\"padding-left: 1em; padding-right: 1em; text-align: center; vertical-align: top\">-0.00795</td>\n",
              "        <td style=\"padding-left: 1em; padding-right: 1em; text-align: center; vertical-align: top\">0.0382</td>\n",
              "        <td style=\"padding-left: 1em; padding-right: 1em; text-align: center; vertical-align: top\">-0.02953</td>\n",
              "    </tr>\n",
              "    <tr>\n",
              "        <td style=\"padding-left: 1em; padding-right: 1em; text-align: center; vertical-align: top\">-0.41995</td>\n",
              "        <td style=\"padding-left: 1em; padding-right: 1em; text-align: center; vertical-align: top\">-0.8146899999999999</td>\n",
              "        <td style=\"padding-left: 1em; padding-right: 1em; text-align: center; vertical-align: top\">-0.01135</td>\n",
              "        <td style=\"padding-left: 1em; padding-right: 1em; text-align: center; vertical-align: top\">0.01137</td>\n",
              "        <td style=\"padding-left: 1em; padding-right: 1em; text-align: center; vertical-align: top\">-0.029480000000000003</td>\n",
              "    </tr>\n",
              "    <tr>\n",
              "        <td style=\"padding-left: 1em; padding-right: 1em; text-align: center; vertical-align: top\">-0.41946000000000006</td>\n",
              "        <td style=\"padding-left: 1em; padding-right: 1em; text-align: center; vertical-align: top\">-0.81491</td>\n",
              "        <td style=\"padding-left: 1em; padding-right: 1em; text-align: center; vertical-align: top\">-0.017509999999999998</td>\n",
              "        <td style=\"padding-left: 1em; padding-right: 1em; text-align: center; vertical-align: top\">-0.09468</td>\n",
              "        <td style=\"padding-left: 1em; padding-right: 1em; text-align: center; vertical-align: top\">0.00677</td>\n",
              "    </tr>\n",
              "    <tr>\n",
              "        <td style=\"padding-left: 1em; padding-right: 1em; text-align: center; vertical-align: top\">-0.41927</td>\n",
              "        <td style=\"padding-left: 1em; padding-right: 1em; text-align: center; vertical-align: top\">-0.81471</td>\n",
              "        <td style=\"padding-left: 1em; padding-right: 1em; text-align: center; vertical-align: top\">0.03185</td>\n",
              "        <td style=\"padding-left: 1em; padding-right: 1em; text-align: center; vertical-align: top\">-0.6597</td>\n",
              "        <td style=\"padding-left: 1em; padding-right: 1em; text-align: center; vertical-align: top\">0.1826</td>\n",
              "    </tr>\n",
              "    <tr>\n",
              "        <td style=\"padding-left: 1em; padding-right: 1em; text-align: center; vertical-align: top\">-0.41936999999999997</td>\n",
              "        <td style=\"padding-left: 1em; padding-right: 1em; text-align: center; vertical-align: top\">-0.81492</td>\n",
              "        <td style=\"padding-left: 1em; padding-right: 1em; text-align: center; vertical-align: top\">0.00828</td>\n",
              "        <td style=\"padding-left: 1em; padding-right: 1em; text-align: center; vertical-align: top\">-0.03822</td>\n",
              "        <td style=\"padding-left: 1em; padding-right: 1em; text-align: center; vertical-align: top\">-0.051739999999999994</td>\n",
              "    </tr>\n",
              "    <tr>\n",
              "        <td style=\"padding-left: 1em; padding-right: 1em; text-align: center; vertical-align: top\">-0.41903999999999997</td>\n",
              "        <td style=\"padding-left: 1em; padding-right: 1em; text-align: center; vertical-align: top\">-0.8153199999999999</td>\n",
              "        <td style=\"padding-left: 1em; padding-right: 1em; text-align: center; vertical-align: top\">-0.01408</td>\n",
              "        <td style=\"padding-left: 1em; padding-right: 1em; text-align: center; vertical-align: top\">-0.057370000000000004</td>\n",
              "        <td style=\"padding-left: 1em; padding-right: 1em; text-align: center; vertical-align: top\">-0.03787</td>\n",
              "    </tr>\n",
              "    <tr>\n",
              "        <td style=\"padding-left: 1em; padding-right: 1em; text-align: center; vertical-align: top\">-0.41844</td>\n",
              "        <td style=\"padding-left: 1em; padding-right: 1em; text-align: center; vertical-align: top\">-0.8159</td>\n",
              "        <td style=\"padding-left: 1em; padding-right: 1em; text-align: center; vertical-align: top\">-0.007690000000000001</td>\n",
              "        <td style=\"padding-left: 1em; padding-right: 1em; text-align: center; vertical-align: top\">-0.05205</td>\n",
              "        <td style=\"padding-left: 1em; padding-right: 1em; text-align: center; vertical-align: top\">-0.04213</td>\n",
              "    </tr>\n",
              "    <tr>\n",
              "        <td style=\"padding-left: 1em; padding-right: 1em; text-align: center; vertical-align: top\">-0.36888000000000004</td>\n",
              "        <td style=\"padding-left: 1em; padding-right: 1em; text-align: center; vertical-align: top\">-0.8004899999999999</td>\n",
              "        <td style=\"padding-left: 1em; padding-right: 1em; text-align: center; vertical-align: top\">0.025230000000000002</td>\n",
              "        <td style=\"padding-left: 1em; padding-right: 1em; text-align: center; vertical-align: top\">0.6905899999999999</td>\n",
              "        <td style=\"padding-left: 1em; padding-right: 1em; text-align: center; vertical-align: top\">-0.64717</td>\n",
              "    </tr>\n",
              "</table>\n",
              "<table frame=\"box\" rules=\"cols\">\n",
              "    <tr>\n",
              "        <th style=\"padding-left: 1em; padding-right: 1em; text-align: center\">Activity</th>\n",
              "    </tr>\n",
              "    <tr>\n",
              "        <td style=\"padding-left: 1em; padding-right: 1em; text-align: center; vertical-align: top\">0.0</td>\n",
              "    </tr>\n",
              "    <tr>\n",
              "        <td style=\"padding-left: 1em; padding-right: 1em; text-align: center; vertical-align: top\">0.0</td>\n",
              "    </tr>\n",
              "    <tr>\n",
              "        <td style=\"padding-left: 1em; padding-right: 1em; text-align: center; vertical-align: top\">0.0</td>\n",
              "    </tr>\n",
              "    <tr>\n",
              "        <td style=\"padding-left: 1em; padding-right: 1em; text-align: center; vertical-align: top\">0.0</td>\n",
              "    </tr>\n",
              "    <tr>\n",
              "        <td style=\"padding-left: 1em; padding-right: 1em; text-align: center; vertical-align: top\">0.0</td>\n",
              "    </tr>\n",
              "    <tr>\n",
              "        <td style=\"padding-left: 1em; padding-right: 1em; text-align: center; vertical-align: top\">0.0</td>\n",
              "    </tr>\n",
              "    <tr>\n",
              "        <td style=\"padding-left: 1em; padding-right: 1em; text-align: center; vertical-align: top\">0.0</td>\n",
              "    </tr>\n",
              "    <tr>\n",
              "        <td style=\"padding-left: 1em; padding-right: 1em; text-align: center; vertical-align: top\">0.0</td>\n",
              "    </tr>\n",
              "    <tr>\n",
              "        <td style=\"padding-left: 1em; padding-right: 1em; text-align: center; vertical-align: top\">0.0</td>\n",
              "    </tr>\n",
              "    <tr>\n",
              "        <td style=\"padding-left: 1em; padding-right: 1em; text-align: center; vertical-align: top\">0.0</td>\n",
              "    </tr>\n",
              "</table>\n",
              "[1206676 rows x 11 columns]<br/>Note: Only the head of the SFrame is printed.<br/>You can use print_rows(num_rows=m, num_columns=n) to print more rows and columns.\n",
              "</div>"
            ],
            "text/plain": [
              "Columns:\n",
              "\tSessionId\tfloat\n",
              "\tAccX\tfloat\n",
              "\tAccY\tfloat\n",
              "\tAccZ\tfloat\n",
              "\tGravX\tfloat\n",
              "\tGravY\tfloat\n",
              "\tGravZ\tfloat\n",
              "\tRotX\tfloat\n",
              "\tRotY\tfloat\n",
              "\tRotZ\tfloat\n",
              "\tActivity\tfloat\n",
              "\n",
              "Rows: 1206676\n",
              "\n",
              "Data:\n",
              "+-----------+-----------------------+----------------------+\n",
              "| SessionId |          AccX         |         AccY         |\n",
              "+-----------+-----------------------+----------------------+\n",
              "|    1.0    |        -0.01457       | 0.015309999999999999 |\n",
              "|    1.0    |        -0.01925       |       -0.00365       |\n",
              "|    1.0    |        -0.00446       |       0.00946        |\n",
              "|    1.0    |        0.00168        |       0.01207        |\n",
              "|    1.0    | 0.0035399999999999997 | 0.009609999999999999 |\n",
              "|    1.0    |  0.18175999999999998  |       0.06651        |\n",
              "|    1.0    |        -0.00625       |       0.02513        |\n",
              "|    1.0    |        0.00881        |       0.00139        |\n",
              "|    1.0    |        0.00645        |       0.00569        |\n",
              "|    1.0    |        -0.1157        |       -0.04278       |\n",
              "+-----------+-----------------------+----------------------+\n",
              "+-----------------------+---------------------+----------------------+\n",
              "|          AccZ         |        GravX        |        GravY         |\n",
              "+-----------------------+---------------------+----------------------+\n",
              "|        -0.00562       | 0.39760999999999996 |       -0.4212        |\n",
              "| -0.007659999999999999 |       0.39834       | -0.42073999999999995 |\n",
              "| -0.010790000000000001 |       0.39919       |       -0.42026       |\n",
              "|         -0.01         |        0.3999       |       -0.41995       |\n",
              "|        -0.02445       |       0.39998       | -0.41946000000000006 |\n",
              "|        0.00758        |       0.40058       |       -0.41927       |\n",
              "|        -0.02546       |       0.40005       | -0.41936999999999997 |\n",
              "| -0.006409999999999999 |       0.39958       | -0.41903999999999997 |\n",
              "|        0.00295        |       0.39903       |       -0.41844       |\n",
              "|        -0.00954       | 0.47236999999999996 | -0.36888000000000004 |\n",
              "+-----------------------+---------------------+----------------------+\n",
              "+---------------------+-----------------------+-----------------------+\n",
              "|        GravZ        |          RotX         |          RotY         |\n",
              "+---------------------+-----------------------+-----------------------+\n",
              "|       -0.81517      |        0.00685        |        0.03171        |\n",
              "|       -0.81505      |        -0.03537       |        0.04056        |\n",
              "|       -0.81488      |        -0.00795       |         0.0382        |\n",
              "| -0.8146899999999999 |        -0.01135       |        0.01137        |\n",
              "|       -0.81491      | -0.017509999999999998 |        -0.09468       |\n",
              "|       -0.81471      |        0.03185        |        -0.6597        |\n",
              "|       -0.81492      |        0.00828        |        -0.03822       |\n",
              "| -0.8153199999999999 |        -0.01408       | -0.057370000000000004 |\n",
              "|       -0.8159       | -0.007690000000000001 |        -0.05205       |\n",
              "| -0.8004899999999999 |  0.025230000000000002 |   0.6905899999999999  |\n",
              "+---------------------+-----------------------+-----------------------+\n",
              "+-----------------------+----------+\n",
              "|          RotZ         | Activity |\n",
              "+-----------------------+----------+\n",
              "| -0.026369999999999998 |   0.0    |\n",
              "|        -0.01355       |   0.0    |\n",
              "|        -0.02953       |   0.0    |\n",
              "| -0.029480000000000003 |   0.0    |\n",
              "|        0.00677        |   0.0    |\n",
              "|         0.1826        |   0.0    |\n",
              "| -0.051739999999999994 |   0.0    |\n",
              "|        -0.03787       |   0.0    |\n",
              "|        -0.04213       |   0.0    |\n",
              "|        -0.64717       |   0.0    |\n",
              "+-----------------------+----------+\n",
              "[1206676 rows x 11 columns]\n",
              "Note: Only the head of the SFrame is printed.\n",
              "You can use print_rows(num_rows=m, num_columns=n) to print more rows and columns."
            ]
          },
          "metadata": {
            "tags": []
          },
          "execution_count": 8
        }
      ]
    },
    {
      "cell_type": "code",
      "metadata": {
        "id": "ahuRGMOjlP16",
        "outputId": "603e0fd9-5768-44f3-ff32-f2998f4770b1",
        "colab": {
          "base_uri": "https://localhost:8080/",
          "height": 93
        }
      },
      "source": [
        "l_sf.groupby('Activity', [tc.aggregate.COUNT]).sort(\"Count\", ascending = False)"
      ],
      "execution_count": null,
      "outputs": [
        {
          "output_type": "execute_result",
          "data": {
            "text/html": [
              "<div style=\"max-height:1000px;max-width:1500px;overflow:auto;\"><table frame=\"box\" rules=\"cols\">\n",
              "    <tr>\n",
              "        <th style=\"padding-left: 1em; padding-right: 1em; text-align: center\">Activity</th>\n",
              "        <th style=\"padding-left: 1em; padding-right: 1em; text-align: center\">Count</th>\n",
              "    </tr>\n",
              "    <tr>\n",
              "        <td style=\"padding-left: 1em; padding-right: 1em; text-align: center; vertical-align: top\">0.0</td>\n",
              "        <td style=\"padding-left: 1em; padding-right: 1em; text-align: center; vertical-align: top\">1131000</td>\n",
              "    </tr>\n",
              "    <tr>\n",
              "        <td style=\"padding-left: 1em; padding-right: 1em; text-align: center; vertical-align: top\">1.0</td>\n",
              "        <td style=\"padding-left: 1em; padding-right: 1em; text-align: center; vertical-align: top\">75676</td>\n",
              "    </tr>\n",
              "</table>\n",
              "[2 rows x 2 columns]<br/>\n",
              "</div>"
            ],
            "text/plain": [
              "Columns:\n",
              "\tActivity\tfloat\n",
              "\tCount\tint\n",
              "\n",
              "Rows: 2\n",
              "\n",
              "Data:\n",
              "+----------+---------+\n",
              "| Activity |  Count  |\n",
              "+----------+---------+\n",
              "|   0.0    | 1131000 |\n",
              "|   1.0    |  75676  |\n",
              "+----------+---------+\n",
              "[2 rows x 2 columns]"
            ]
          },
          "metadata": {
            "tags": []
          },
          "execution_count": 9
        }
      ]
    },
    {
      "cell_type": "code",
      "metadata": {
        "id": "EOErCyulsFgt"
      },
      "source": [
        "l_sf['Activity'] = l_sf['Activity'].astype(int)\n",
        "l_sf['SessionId'] = l_sf['SessionId'].astype(int)"
      ],
      "execution_count": null,
      "outputs": []
    },
    {
      "cell_type": "code",
      "metadata": {
        "id": "ES-3tASxlbfa"
      },
      "source": [
        "train, test = tc.activity_classifier.util.random_split_by_session(l_sf, session_id='SessionId', fraction=0.8)"
      ],
      "execution_count": null,
      "outputs": []
    },
    {
      "cell_type": "code",
      "metadata": {
        "id": "qnhCH--llvQH",
        "outputId": "d5ac4e24-f0c4-4612-dffc-efcc17bdf092",
        "colab": {
          "base_uri": "https://localhost:8080/",
          "height": 306
        }
      },
      "source": [
        "model = tc.activity_classifier.create(train, session_id='SessionId', target='Activity', prediction_window=150)"
      ],
      "execution_count": null,
      "outputs": [
        {
          "output_type": "display_data",
          "data": {
            "text/html": [
              "<pre>Pre-processing 650147 samples...</pre>"
            ],
            "text/plain": [
              "Pre-processing 650147 samples..."
            ]
          },
          "metadata": {
            "tags": []
          }
        },
        {
          "output_type": "display_data",
          "data": {
            "text/html": [
              "<pre>Using sequences of size 3000 for model creation.</pre>"
            ],
            "text/plain": [
              "Using sequences of size 3000 for model creation."
            ]
          },
          "metadata": {
            "tags": []
          }
        },
        {
          "output_type": "display_data",
          "data": {
            "text/html": [
              "<pre>Processed a total of 58 sessions.</pre>"
            ],
            "text/plain": [
              "Processed a total of 58 sessions."
            ]
          },
          "metadata": {
            "tags": []
          }
        },
        {
          "output_type": "display_data",
          "data": {
            "text/html": [
              "<pre>Using CPU to create model</pre>"
            ],
            "text/plain": [
              "Using CPU to create model"
            ]
          },
          "metadata": {
            "tags": []
          }
        },
        {
          "output_type": "display_data",
          "data": {
            "text/html": [
              "<pre>+--------------+----------------+--------------+</pre>"
            ],
            "text/plain": [
              "+--------------+----------------+--------------+"
            ]
          },
          "metadata": {
            "tags": []
          }
        },
        {
          "output_type": "display_data",
          "data": {
            "text/html": [
              "<pre>| Iteration    | Train Accuracy | Elapsed Time |</pre>"
            ],
            "text/plain": [
              "| Iteration    | Train Accuracy | Elapsed Time |"
            ]
          },
          "metadata": {
            "tags": []
          }
        },
        {
          "output_type": "display_data",
          "data": {
            "text/html": [
              "<pre>+--------------+----------------+--------------+</pre>"
            ],
            "text/plain": [
              "+--------------+----------------+--------------+"
            ]
          },
          "metadata": {
            "tags": []
          }
        },
        {
          "output_type": "display_data",
          "data": {
            "text/html": [
              "<pre>| 1            | 0.741832       | 2.85s        |</pre>"
            ],
            "text/plain": [
              "| 1            | 0.741832       | 2.85s        |"
            ]
          },
          "metadata": {
            "tags": []
          }
        },
        {
          "output_type": "display_data",
          "data": {
            "text/html": [
              "<pre>| 2            | 0.884422       | 3.49s        |</pre>"
            ],
            "text/plain": [
              "| 2            | 0.884422       | 3.49s        |"
            ]
          },
          "metadata": {
            "tags": []
          }
        },
        {
          "output_type": "display_data",
          "data": {
            "text/html": [
              "<pre>| 3            | 0.922764       | 4.10s        |</pre>"
            ],
            "text/plain": [
              "| 3            | 0.922764       | 4.10s        |"
            ]
          },
          "metadata": {
            "tags": []
          }
        },
        {
          "output_type": "display_data",
          "data": {
            "text/html": [
              "<pre>| 4            | 0.935264       | 4.72s        |</pre>"
            ],
            "text/plain": [
              "| 4            | 0.935264       | 4.72s        |"
            ]
          },
          "metadata": {
            "tags": []
          }
        },
        {
          "output_type": "display_data",
          "data": {
            "text/html": [
              "<pre>| 5            | 0.946606       | 5.34s        |</pre>"
            ],
            "text/plain": [
              "| 5            | 0.946606       | 5.34s        |"
            ]
          },
          "metadata": {
            "tags": []
          }
        },
        {
          "output_type": "display_data",
          "data": {
            "text/html": [
              "<pre>| 6            | 0.948759       | 5.97s        |</pre>"
            ],
            "text/plain": [
              "| 6            | 0.948759       | 5.97s        |"
            ]
          },
          "metadata": {
            "tags": []
          }
        },
        {
          "output_type": "display_data",
          "data": {
            "text/html": [
              "<pre>| 10           | 0.969081       | 8.46s        |</pre>"
            ],
            "text/plain": [
              "| 10           | 0.969081       | 8.46s        |"
            ]
          },
          "metadata": {
            "tags": []
          }
        },
        {
          "output_type": "display_data",
          "data": {
            "text/html": [
              "<pre>+--------------+----------------+--------------+</pre>"
            ],
            "text/plain": [
              "+--------------+----------------+--------------+"
            ]
          },
          "metadata": {
            "tags": []
          }
        },
        {
          "output_type": "display_data",
          "data": {
            "text/html": [
              "<pre>Training complete</pre>"
            ],
            "text/plain": [
              "Training complete"
            ]
          },
          "metadata": {
            "tags": []
          }
        },
        {
          "output_type": "display_data",
          "data": {
            "text/html": [
              "<pre>Total Time Spent: 11.8455</pre>"
            ],
            "text/plain": [
              "Total Time Spent: 11.8455"
            ]
          },
          "metadata": {
            "tags": []
          }
        }
      ]
    },
    {
      "cell_type": "code",
      "metadata": {
        "id": "AKYL3QTNs90f",
        "outputId": "e9b44d3b-2445-440b-f7db-c28906c4931c",
        "colab": {
          "base_uri": "https://localhost:8080/",
          "height": 748
        }
      },
      "source": [
        "metrics = model.evaluate(test)\n",
        "print(metrics)"
      ],
      "execution_count": null,
      "outputs": [
        {
          "output_type": "stream",
          "text": [
            "{'accuracy': 0.9778951321494478, 'auc': 0.9590312450342949, 'confusion_matrix': Columns:\n",
            "\tclass\tint\n",
            "\tpredicted_class\tint\n",
            "\tcount\tint\n",
            "\n",
            "Rows: 3\n",
            "\n",
            "Data:\n",
            "+-------+-----------------+--------+\n",
            "| class | predicted_class | count  |\n",
            "+-------+-----------------+--------+\n",
            "|   0   |        0        | 543927 |\n",
            "|   1   |        0        | 12302  |\n",
            "|   1   |        1        |  300   |\n",
            "+-------+-----------------+--------+\n",
            "[3 rows x 3 columns]\n",
            ", 'f1_score': 0.046504417919702376, 'log_loss': 0.150768320311513, 'precision': 1.0, 'recall': 0.02380574511982225, 'roc_curve': Columns:\n",
            "\tthreshold\tfloat\n",
            "\tfpr\tfloat\n",
            "\ttpr\tfloat\n",
            "\tp\tint\n",
            "\tn\tint\n",
            "\n",
            "Rows: 100001\n",
            "\n",
            "Data:\n",
            "+-----------+-----+-----+-------+--------+\n",
            "| threshold | fpr | tpr |   p   |   n    |\n",
            "+-----------+-----+-----+-------+--------+\n",
            "|    0.0    | 1.0 | 1.0 | 12602 | 543927 |\n",
            "|   1e-05   | 1.0 | 1.0 | 12602 | 543927 |\n",
            "|   2e-05   | 1.0 | 1.0 | 12602 | 543927 |\n",
            "|   3e-05   | 1.0 | 1.0 | 12602 | 543927 |\n",
            "|   4e-05   | 1.0 | 1.0 | 12602 | 543927 |\n",
            "|   5e-05   | 1.0 | 1.0 | 12602 | 543927 |\n",
            "|   6e-05   | 1.0 | 1.0 | 12602 | 543927 |\n",
            "|   7e-05   | 1.0 | 1.0 | 12602 | 543927 |\n",
            "|   8e-05   | 1.0 | 1.0 | 12602 | 543927 |\n",
            "|   9e-05   | 1.0 | 1.0 | 12602 | 543927 |\n",
            "+-----------+-----+-----+-------+--------+\n",
            "[100001 rows x 5 columns]\n",
            "Note: Only the head of the SFrame is printed.\n",
            "You can use print_rows(num_rows=m, num_columns=n) to print more rows and columns.}\n"
          ],
          "name": "stdout"
        }
      ]
    },
    {
      "cell_type": "code",
      "metadata": {
        "id": "ubE3ByC9tT64",
        "outputId": "f11da957-0c0c-41c6-e6fd-bed9a49bb618",
        "colab": {
          "base_uri": "https://localhost:8080/",
          "height": 34
        }
      },
      "source": [
        "print(metrics['accuracy'])"
      ],
      "execution_count": null,
      "outputs": [
        {
          "output_type": "stream",
          "text": [
            "0.9783443450386233\n"
          ],
          "name": "stdout"
        }
      ]
    },
    {
      "cell_type": "code",
      "metadata": {
        "id": "2MsjPPYmtYbN"
      },
      "source": [
        "model.export_coreml(DATA_PATH + 'ActivityClassifier.mlmodel')"
      ],
      "execution_count": null,
      "outputs": []
    },
    {
      "cell_type": "code",
      "metadata": {
        "id": "YCAGy2dmlnoB",
        "outputId": "6148f227-be8f-4f0f-8d9f-987dd502cacd",
        "colab": {
          "base_uri": "https://localhost:8080/",
          "height": 34
        }
      },
      "source": [
        "!turicreate --version"
      ],
      "execution_count": null,
      "outputs": [
        {
          "output_type": "stream",
          "text": [
            "/bin/bash: turicreate: command not found\n"
          ],
          "name": "stdout"
        }
      ]
    },
    {
      "cell_type": "code",
      "metadata": {
        "id": "Lfn5rQQpQtYB"
      },
      "source": [
        "##END TURI"
      ],
      "execution_count": null,
      "outputs": []
    },
    {
      "cell_type": "code",
      "metadata": {
        "id": "tr7sFwBYyJEN"
      },
      "source": [
        "#functions model\n",
        "def get_RNN_model():\n",
        "  biLSTM_model = Sequential()\n",
        "  biLSTM_model.add(Bidirectional(LSTM(100, return_sequences=True, stateful=False), input_shape=(30, 9)))\n",
        "  biLSTM_model.add(Dense(1, activation='sigmoid'))\n",
        "  biLSTM_model.compile(loss='binary_crossentropy', optimizer='adam', metrics=['accuracy'])\n",
        "  return biLSTM_model\n",
        "\n",
        "def train_model_unseen_id(data, labels, unseenid):\n",
        "  trainx, trainy = [],[]\n",
        "  for a in subj_dict.items():\n",
        "    subjid = a[1]\n",
        "    if subjid != unseenid:\n",
        "      trainx.extend(data[subjid])\n",
        "      trainy.extend(labels[subjid])\n",
        "\n",
        "  trainx, trainy = np.array(trainx), np.array(trainy)\n",
        "  trainy = trainy[:, :, np.newaxis]\n",
        "  print(\"TRAIN x,y\", trainx.shape, trainy.shape)\n",
        "\n",
        "  mu_x = np.mean(trainx, axis=0)\n",
        "  sigma_x = np.std(trainx, axis=0)\n",
        "  trainx = (trainx-mu_x)/sigma_x\n",
        "\n",
        "  model = get_RNN_model()\n",
        "  model.fit(trainx, trainy, batch_size=32, epochs=10)\n",
        "\n",
        "  if unseenid >= 0: #not train with all subj,that is an unseenid available\n",
        "    testx, testy = np.array(data[unseenid]), np.array(labels[unseenid])\n",
        "    testy = testy[:, :, np.newaxis]\n",
        "    testx = (testx-mu_x)/sigma_x\n",
        "    print(\"TEST x,y\", testx.shape, testy.shape)\n",
        "    _, accuracy = model.evaluate(testx, testy, batch_size=32)\n",
        "    print(\"TESTING ACCURACY with unseenid:\", unseenid, accuracy)\n",
        "    testy_pred = model.predict(testx)\n",
        "    b = np.squeeze(testy_pred, axis=2)\n",
        "    a = np.array(labels[unseenid])\n",
        "    #print(\"b==>\",b.shape, b)\n",
        "    #print(\"a==>\",a.shape, a)\n",
        "    print(\"\\n  MAE:\", mean_absolute_error(a, b))\n",
        "\n",
        "  return model"
      ],
      "execution_count": null,
      "outputs": []
    },
    {
      "cell_type": "code",
      "metadata": {
        "id": "hy2BhXk14nS6",
        "outputId": "bcef69c5-bd96-48d5-9267-f0f385ea163d",
        "colab": {
          "base_uri": "https://localhost:8080/",
          "height": 1000
        }
      },
      "source": [
        "#left wrist model\n",
        "for b in subj_dict.items():\n",
        "  subjid = b[1]\n",
        "  print(\"*********Starting left model for unseen \",subjid)\n",
        "  model = train_model_unseen_id(l_all_data,l_all_labels,subjid)\n",
        "\n",
        "print(\"*********Starting left model for ALL \")\n",
        "model = train_model_unseen_id(l_all_data,l_all_labels,-1)"
      ],
      "execution_count": null,
      "outputs": [
        {
          "output_type": "stream",
          "text": [
            "*********Starting left model for unseen  1\n",
            "TRAIN x,y (389, 30, 9) (389, 30, 1)\n",
            "WARNING:tensorflow:From /usr/local/lib/python3.6/dist-packages/tensorflow/python/framework/op_def_library.py:263: colocate_with (from tensorflow.python.framework.ops) is deprecated and will be removed in a future version.\n",
            "Instructions for updating:\n",
            "Colocations handled automatically by placer.\n",
            "WARNING:tensorflow:From /usr/local/lib/python3.6/dist-packages/tensorflow/python/ops/math_ops.py:3066: to_int32 (from tensorflow.python.ops.math_ops) is deprecated and will be removed in a future version.\n",
            "Instructions for updating:\n",
            "Use tf.cast instead.\n",
            "Epoch 1/10\n",
            "389/389 [==============================] - 2s 6ms/step - loss: 0.5881 - acc: 0.7342\n",
            "Epoch 2/10\n",
            "389/389 [==============================] - 1s 3ms/step - loss: 0.3037 - acc: 0.8941\n",
            "Epoch 3/10\n",
            "389/389 [==============================] - 1s 3ms/step - loss: 0.2010 - acc: 0.9154\n",
            "Epoch 4/10\n",
            "389/389 [==============================] - 1s 3ms/step - loss: 0.1729 - acc: 0.9224\n",
            "Epoch 5/10\n",
            "389/389 [==============================] - 1s 3ms/step - loss: 0.1597 - acc: 0.9308\n",
            "Epoch 6/10\n",
            "389/389 [==============================] - 1s 3ms/step - loss: 0.1501 - acc: 0.9376\n",
            "Epoch 7/10\n",
            "389/389 [==============================] - 1s 3ms/step - loss: 0.1414 - acc: 0.9429\n",
            "Epoch 8/10\n",
            "389/389 [==============================] - 1s 3ms/step - loss: 0.1334 - acc: 0.9445\n",
            "Epoch 9/10\n",
            "389/389 [==============================] - 1s 3ms/step - loss: 0.1262 - acc: 0.9468\n",
            "Epoch 10/10\n",
            "389/389 [==============================] - 1s 3ms/step - loss: 0.1224 - acc: 0.9479\n",
            "TEST x,y (69, 30, 9) (69, 30, 1)\n",
            "69/69 [==============================] - 0s 3ms/step\n",
            "TESTING ACCURACY with unseenid: 1 0.9169082226960555\n",
            "b==> (69, 30) [[0.17461094 0.15400308 0.12008303 ... 0.2232399  0.18742484 0.16707426]\n",
            " [0.01053959 0.01063234 0.00927728 ... 0.37276793 0.24573267 0.13960099]\n",
            " [0.56053513 0.52928764 0.33168858 ... 0.03991389 0.02434388 0.01475927]\n",
            " ...\n",
            " [0.00596333 0.00463244 0.00307304 ... 0.00186402 0.00201184 0.00207993]\n",
            " [0.00529405 0.00405228 0.00263712 ... 0.00280616 0.00283805 0.00325879]\n",
            " [0.65930027 0.5631987  0.4334592  ... 0.00163211 0.00193303 0.00244293]]\n",
            "a==> (69, 30) [[0 0 0 ... 0 0 0]\n",
            " [0 0 0 ... 0 0 0]\n",
            " [0 0 0 ... 0 0 0]\n",
            " ...\n",
            " [0 0 0 ... 0 0 0]\n",
            " [0 0 0 ... 0 0 0]\n",
            " [0 0 0 ... 0 0 0]]\n",
            "\n",
            "  MAE: 0.1472974954989001\n",
            "*********Starting left model for unseen  2\n",
            "TRAIN x,y (425, 30, 9) (425, 30, 1)\n",
            "Epoch 1/10\n",
            "425/425 [==============================] - 3s 6ms/step - loss: 0.5830 - acc: 0.7438\n",
            "Epoch 2/10\n",
            "425/425 [==============================] - 1s 3ms/step - loss: 0.2826 - acc: 0.9047\n",
            "Epoch 3/10\n",
            "425/425 [==============================] - 1s 3ms/step - loss: 0.1957 - acc: 0.9220\n",
            "Epoch 4/10\n",
            "425/425 [==============================] - 1s 3ms/step - loss: 0.1687 - acc: 0.9316\n",
            "Epoch 5/10\n",
            "425/425 [==============================] - 1s 3ms/step - loss: 0.1555 - acc: 0.9345\n",
            "Epoch 6/10\n",
            "425/425 [==============================] - 1s 3ms/step - loss: 0.1474 - acc: 0.9405\n",
            "Epoch 7/10\n",
            "425/425 [==============================] - 1s 3ms/step - loss: 0.1350 - acc: 0.9438\n",
            "Epoch 8/10\n",
            "425/425 [==============================] - 1s 3ms/step - loss: 0.1274 - acc: 0.9476\n",
            "Epoch 9/10\n",
            "425/425 [==============================] - 1s 3ms/step - loss: 0.1169 - acc: 0.9544\n",
            "Epoch 10/10\n",
            "425/425 [==============================] - 1s 3ms/step - loss: 0.1102 - acc: 0.9558\n",
            "TEST x,y (33, 30, 9) (33, 30, 1)\n",
            "33/33 [==============================] - 0s 11ms/step\n",
            "TESTING ACCURACY with unseenid: 2 0.8929293083422112\n",
            "b==> (33, 30) [[2.10872293e-03 1.39403343e-03 7.99834728e-04 4.08977270e-04\n",
            "  2.07334757e-04 1.11550093e-04 5.92172146e-05 3.26037407e-05\n",
            "  2.18153000e-05 1.76727772e-05 1.67191029e-05 1.81794167e-05\n",
            "  2.27391720e-05 3.26633453e-05 5.14090061e-05 8.29994678e-05\n",
            "  1.32203102e-04 1.96844339e-04 2.52783298e-04 2.78651714e-04\n",
            "  2.52842903e-04 3.43471766e-04 1.08531117e-03 3.92478704e-03\n",
            "  2.71964073e-03 8.00371170e-04 1.10605359e-03 2.55224109e-03\n",
            "  6.90284371e-03 2.81526744e-02]\n",
            " [4.18010205e-01 6.26495957e-01 7.15171278e-01 7.29626477e-01\n",
            "  7.26382971e-01 8.07410240e-01 6.79313183e-01 4.95649219e-01\n",
            "  4.12425786e-01 1.01414949e-01 1.90311670e-02 1.33078992e-02\n",
            "  9.30634141e-03 8.62941146e-03 1.34645998e-02 3.07356417e-02\n",
            "  1.38251841e-01 4.86733347e-01 6.32859290e-01 3.46177965e-01\n",
            "  2.11107463e-01 2.72225767e-01 3.81743103e-01 4.24175024e-01\n",
            "  4.66143310e-01 4.83517945e-01 4.84360069e-01 2.37045914e-01\n",
            "  1.06817186e-01 1.17248684e-01]\n",
            " [6.60883307e-01 3.90745640e-01 1.64481163e-01 1.78817213e-02\n",
            "  3.58954072e-03 2.91833282e-03 4.62386012e-03 1.08220279e-02\n",
            "  4.51852977e-02 2.20499963e-01 5.16906261e-01 7.53231525e-01\n",
            "  6.82891548e-01 5.16193688e-01 6.42443001e-01 5.99372089e-01\n",
            "  4.46115494e-01 4.22232091e-01 2.43738234e-01 8.67168605e-02\n",
            "  2.23669410e-02 1.25456452e-02 1.55972540e-02 1.34985447e-02\n",
            "  1.63783133e-02 3.01523209e-02 4.44135964e-02 6.40332997e-02\n",
            "  8.32726657e-02 9.77078974e-02]\n",
            " [1.15884244e-02 6.14741445e-03 4.84058261e-03 4.94921207e-03\n",
            "  4.56249714e-03 3.98540497e-03 3.08275223e-03 2.30672956e-03\n",
            "  1.44505501e-03 9.90629196e-04 8.81612301e-04 6.74635172e-04\n",
            "  5.17636538e-04 5.78075647e-04 7.36981630e-04 6.39408827e-04\n",
            "  4.08619642e-04 2.78443098e-04 3.12685966e-04 5.57094812e-04\n",
            "  1.04504824e-03 1.82422996e-03 2.67103314e-03 5.96442819e-03\n",
            "  1.66937411e-02 3.55560184e-02 6.26608729e-02 5.65081835e-02\n",
            "  3.80311608e-02 6.27154410e-02]\n",
            " [4.33469057e-01 1.85407341e-01 9.03529227e-02 4.47841585e-02\n",
            "  6.19593263e-02 2.67185122e-01 5.68456769e-01 6.06106043e-01\n",
            "  5.37924528e-01 2.40460217e-01 1.04399085e-01 1.07802808e-01\n",
            "  1.65945947e-01 1.34176046e-01 9.24960673e-02 6.21431768e-02\n",
            "  3.85656953e-02 1.88719034e-02 7.16221333e-03 4.39575315e-03\n",
            "  3.71205807e-03 5.73596358e-03 2.29193568e-02 9.56556499e-02\n",
            "  2.35535830e-01 4.25544649e-01 6.19171381e-01 7.12303996e-01\n",
            "  8.04951549e-01 8.41468930e-01]\n",
            " [7.68941641e-02 2.27225721e-02 1.54178143e-02 1.52052045e-02\n",
            "  1.13994777e-02 1.03264451e-02 7.49024749e-03 3.98105383e-03\n",
            "  2.97299027e-03 2.74392962e-03 2.78538465e-03 3.18410993e-03\n",
            "  4.01568413e-03 6.38037920e-03 1.19847655e-02 3.50664556e-02\n",
            "  1.97131336e-01 6.35749459e-01 8.34482193e-01 8.94219875e-01\n",
            "  8.83679688e-01 8.66962433e-01 8.86481762e-01 8.68014872e-01\n",
            "  8.28213096e-01 7.33217120e-01 6.17752850e-01 5.97635627e-01\n",
            "  3.65606785e-01 3.08061957e-01]\n",
            " [3.33109140e-01 3.94690096e-01 5.06888986e-01 6.62649751e-01\n",
            "  7.53453732e-01 7.72622108e-01 7.93383598e-01 8.42996716e-01\n",
            "  6.45245790e-01 5.09482086e-01 5.08249760e-01 4.31037009e-01\n",
            "  4.17881012e-01 2.24834293e-01 1.01071686e-01 6.22283220e-02\n",
            "  5.26162386e-02 9.36088562e-02 1.93791717e-01 2.30301142e-01\n",
            "  9.58515108e-02 4.29262817e-02 6.39848411e-02 4.78119254e-02\n",
            "  1.50144994e-02 9.82549787e-03 8.51294398e-03 1.06657147e-02\n",
            "  1.78913176e-02 3.08136344e-02]\n",
            " [3.36185098e-02 1.86660290e-02 1.24827921e-02 1.14697814e-02\n",
            "  7.49582052e-03 4.82252240e-03 5.50785661e-03 6.23199344e-03\n",
            "  7.78082013e-03 1.57427192e-02 8.14910233e-02 4.42962825e-01\n",
            "  7.80773878e-01 8.93984079e-01 8.24017644e-01 7.15571165e-01\n",
            "  8.31332684e-01 6.83316648e-01 4.95873362e-01 5.07564723e-01\n",
            "  3.35947484e-01 2.79066175e-01 2.27639854e-01 6.99570775e-02\n",
            "  8.32483470e-02 2.76543885e-01 5.62383950e-01 6.62361503e-01\n",
            "  6.91819966e-01 5.25779009e-01]\n",
            " [5.19023418e-01 7.13217020e-01 7.68950641e-01 7.26426363e-01\n",
            "  4.65121686e-01 1.56612605e-01 3.31252515e-02 6.62019849e-03\n",
            "  1.98450685e-03 1.29207969e-03 1.07842684e-03 1.03750825e-03\n",
            "  2.03779340e-03 2.76654959e-03 3.49557400e-03 5.29521704e-03\n",
            "  6.72978163e-03 8.47724080e-03 1.03921890e-02 1.10979974e-02\n",
            "  1.11277401e-02 1.14322603e-02 1.16037428e-02 1.66772008e-02\n",
            "  3.80932391e-02 1.05128855e-01 3.35915923e-01 5.66853046e-01\n",
            "  5.79481602e-01 5.79561174e-01]\n",
            " [3.25114012e-01 4.57629353e-01 6.27052307e-01 7.20188320e-01\n",
            "  7.70356417e-01 8.30907524e-01 8.17438126e-01 6.75246119e-01\n",
            "  6.81421399e-01 7.60205865e-01 7.21752882e-01 5.91749847e-01\n",
            "  4.32309330e-01 2.25146115e-01 9.73830819e-02 5.21903336e-02\n",
            "  3.44794989e-02 5.58977425e-02 1.14931852e-01 1.88302726e-01\n",
            "  2.39061505e-01 2.80448854e-01 2.56569624e-01 2.32077241e-01\n",
            "  2.39859164e-01 2.60864675e-01 2.52330184e-01 9.36724544e-02\n",
            "  3.98375392e-02 3.50057781e-02]\n",
            " [3.00214887e-02 2.06481218e-02 1.55272484e-02 1.12048984e-02\n",
            "  6.79698586e-03 4.00158763e-03 3.69012356e-03 5.20202518e-03\n",
            "  6.87721372e-03 9.11408663e-03 1.82188749e-02 5.02776206e-02\n",
            "  7.93681145e-02 7.30652809e-02 8.96092653e-02 8.62170458e-02\n",
            "  5.52836061e-02 3.62381935e-02 2.24373043e-02 1.65692270e-02\n",
            "  1.29330158e-02 4.79140878e-03 2.42710114e-03 1.68421865e-03\n",
            "  1.08572841e-03 1.36658549e-03 2.27007270e-03 1.99079514e-03\n",
            "  1.72242522e-03 1.93762779e-03]\n",
            " [9.09744203e-02 1.09647721e-01 1.72129989e-01 2.31812537e-01\n",
            "  2.07997948e-01 1.32747144e-01 7.73053765e-02 3.56364846e-02\n",
            "  1.92580223e-02 8.85123014e-03 4.09841537e-03 1.86112523e-03\n",
            "  8.98599625e-04 7.14212656e-04 8.67486000e-04 1.04242563e-03\n",
            "  9.62436199e-04 1.14625692e-03 1.76671147e-03 2.47666240e-03\n",
            "  4.14633751e-03 5.57592511e-03 4.91672754e-03 5.83010912e-03\n",
            "  7.84054399e-03 9.68325138e-03 2.02116072e-02 6.29560649e-02\n",
            "  6.83211386e-02 3.21203172e-02]\n",
            " [9.35658813e-03 1.06057823e-02 2.61224508e-02 4.89949584e-02\n",
            "  3.78794670e-02 1.64566934e-02 8.35224986e-03 7.60266185e-03\n",
            "  7.39663839e-03 4.63119149e-03 2.79656053e-03 3.16116214e-03\n",
            "  7.92148709e-03 1.99798048e-02 1.82306468e-02 1.17543042e-02\n",
            "  8.13364983e-03 5.74043393e-03 5.56328893e-03 5.93796372e-03\n",
            "  5.36802411e-03 5.66166639e-03 4.79274988e-03 3.09979916e-03\n",
            "  2.87923217e-03 4.71633673e-03 1.21025741e-02 6.41273856e-02\n",
            "  1.26500696e-01 1.27696246e-01]\n",
            " [1.03965014e-01 1.60559088e-01 2.16329664e-01 2.87938237e-01\n",
            "  3.11865240e-01 3.14871013e-01 2.77002871e-01 1.91062450e-01\n",
            "  2.24374264e-01 3.69710058e-01 4.78800267e-01 5.19805014e-01\n",
            "  5.60967922e-01 5.91212213e-01 5.33684731e-01 4.98020530e-01\n",
            "  3.05642277e-01 1.66152000e-01 1.02348924e-01 2.53352225e-02\n",
            "  7.08019733e-03 3.82575393e-03 3.87260318e-03 5.78212738e-03\n",
            "  7.10076094e-03 7.87669420e-03 1.02717578e-02 9.99373198e-03\n",
            "  1.11203194e-02 2.30009556e-02]\n",
            " [2.00571716e-02 1.24988556e-02 9.08645988e-03 9.28589702e-03\n",
            "  1.44585967e-02 3.23400199e-02 7.99593627e-02 2.42102027e-01\n",
            "  5.91791332e-01 8.05703342e-01 8.93607736e-01 8.31547022e-01\n",
            "  7.12014139e-01 7.56525040e-01 5.67943454e-01 1.58844411e-01\n",
            "  3.09638679e-02 1.19796991e-02 6.95249438e-03 4.05678153e-03\n",
            "  2.91320682e-03 2.17485428e-03 2.17574835e-03 2.50884891e-03\n",
            "  2.77689099e-03 3.55157256e-03 5.79291582e-03 1.05409920e-02\n",
            "  1.86242163e-02 3.58724892e-02]\n",
            " [1.09785795e-02 1.32179856e-02 1.96001530e-02 5.05904257e-02\n",
            "  2.21090198e-01 5.41418910e-01 5.83616257e-01 5.40432990e-01\n",
            "  5.73405802e-01 4.42645609e-01 4.08031344e-01 5.39138973e-01\n",
            "  5.24911106e-01 4.40277517e-01 1.79758459e-01 7.85411000e-02\n",
            "  2.87582278e-02 4.13525105e-03 1.15847588e-03 5.98311424e-04\n",
            "  5.27203083e-04 8.22484493e-04 1.41257048e-03 5.33464551e-03\n",
            "  3.47302854e-02 9.45577919e-02 1.32516414e-01 2.37126738e-01\n",
            "  2.88766146e-01 3.46084118e-01]\n",
            " [1.90991759e-02 8.64019990e-03 5.42661548e-03 5.23141026e-03\n",
            "  6.17232919e-03 7.29787350e-03 8.71121883e-03 7.67871737e-03\n",
            "  8.85608792e-03 1.37700140e-02 1.64582431e-02 1.66302025e-02\n",
            "  1.60886049e-02 1.23240352e-02 9.74255800e-03 9.04753804e-03\n",
            "  9.32180882e-03 1.07373893e-02 1.29940808e-02 1.72359943e-02\n",
            "  2.87776589e-02 5.41478097e-02 8.70370865e-02 1.23599946e-01\n",
            "  1.65381551e-01 1.95574015e-01 2.16853619e-01 2.53114104e-01\n",
            "  3.17621768e-01 4.06130672e-01]\n",
            " [1.63893402e-02 2.30506957e-02 2.72413492e-02 3.42666507e-02\n",
            "  5.63762486e-02 8.34785998e-02 8.86804163e-02 7.55964518e-02\n",
            "  6.65904284e-02 6.00003898e-02 6.53116107e-02 6.29222989e-02\n",
            "  5.53636849e-02 6.19916320e-02 6.35624826e-02 6.47527874e-02\n",
            "  4.86952960e-02 5.37858605e-02 9.38120186e-02 1.30036712e-01\n",
            "  1.35544062e-01 1.72380537e-01 2.18152672e-01 2.50348866e-01\n",
            "  3.27312022e-01 3.03823292e-01 2.82250941e-01 2.55314231e-01\n",
            "  1.83360159e-01 1.50703788e-01]\n",
            " [3.04833055e-02 2.43359506e-02 2.64257193e-02 4.67303991e-02\n",
            "  9.18875337e-02 1.61207616e-01 3.08660150e-01 2.91709960e-01\n",
            "  1.91193104e-01 7.77681470e-02 1.62391961e-02 1.45270824e-02\n",
            "  1.33534968e-02 4.33269143e-03 2.88429856e-03 2.58573890e-03\n",
            "  2.94816494e-03 3.51515412e-03 4.16833162e-03 4.68161702e-03\n",
            "  6.33299351e-03 7.17505813e-03 8.08405876e-03 7.36385584e-03\n",
            "  6.89694285e-03 6.63763285e-03 1.05443895e-02 3.84645164e-02\n",
            "  7.42715597e-02 1.09594971e-01]\n",
            " [3.85725498e-03 2.73549557e-03 1.87799335e-03 1.53258443e-03\n",
            "  1.31943822e-03 1.05845928e-03 9.19014215e-04 9.00447369e-04\n",
            "  9.94443893e-04 1.21626258e-03 1.59808993e-03 2.25669146e-03\n",
            "  3.29646468e-03 4.88802791e-03 7.16730952e-03 1.23396814e-02\n",
            "  1.85172558e-02 8.68391991e-03 3.00577283e-03 3.45295668e-03\n",
            "  7.32612610e-03 1.87451541e-02 4.68649566e-02 1.03008240e-01\n",
            "  2.75320560e-01 6.51121855e-01 8.64324689e-01 9.41386700e-01\n",
            "  9.11303163e-01 8.45774412e-01]\n",
            " [1.62242204e-01 4.22947705e-02 2.20108330e-02 2.77412236e-02\n",
            "  2.21483707e-02 1.33844316e-02 1.41318142e-02 1.47839487e-02\n",
            "  7.76097178e-03 2.49812007e-03 1.13058090e-03 1.29458308e-03\n",
            "  5.32689691e-03 2.63318121e-02 1.36661798e-01 5.09874701e-01\n",
            "  7.95636296e-01 8.16618681e-01 7.40090966e-01 3.60802561e-01\n",
            "  4.37489748e-02 1.14780068e-02 9.42417979e-03 7.58951902e-03\n",
            "  7.97280669e-03 1.43924356e-02 4.77996767e-02 2.07757324e-01\n",
            "  3.84492517e-01 3.09968293e-01]\n",
            " [2.08622515e-02 7.52112269e-03 1.08423233e-02 2.17575431e-02\n",
            "  3.42133045e-02 3.80686820e-02 3.41035426e-02 2.84261107e-02\n",
            "  2.39714086e-02 1.93594694e-02 1.17871761e-02 7.36543536e-03\n",
            "  5.72988391e-03 6.90713525e-03 1.11910105e-02 1.72332823e-02\n",
            "  2.02114880e-02 2.00565457e-02 3.26934457e-02 6.72733188e-02\n",
            "  9.30419266e-02 5.46390116e-02 2.25564539e-02 2.20703483e-02\n",
            "  2.73415744e-02 5.66868186e-02 8.07545185e-02 5.67434728e-02\n",
            "  6.66380525e-02 1.48432821e-01]\n",
            " [2.70558894e-02 1.39330626e-02 6.07511401e-03 5.66798449e-03\n",
            "  7.11706281e-03 8.42922926e-03 9.22453403e-03 1.70617700e-02\n",
            "  3.84052396e-02 5.88566661e-02 8.32120478e-02 9.61807072e-02\n",
            "  1.01764143e-01 1.08513653e-01 1.61248535e-01 2.60942161e-01\n",
            "  2.85493821e-01 2.29440182e-01 1.29379034e-01 5.40094972e-02\n",
            "  1.45861804e-02 5.65978885e-03 3.85054946e-03 2.76511908e-03\n",
            "  2.40626931e-03 2.89565325e-03 5.19409776e-03 8.66127014e-03\n",
            "  1.31884515e-02 2.23465264e-02]\n",
            " [4.79690433e-02 1.19734794e-01 3.34054410e-01 6.14034057e-01\n",
            "  7.88547873e-01 8.46119523e-01 8.79072905e-01 9.08255339e-01\n",
            "  9.07914281e-01 9.13143158e-01 9.36439395e-01 8.81308436e-01\n",
            "  8.52281928e-01 9.05174732e-01 8.88901353e-01 8.75063539e-01\n",
            "  7.06764877e-01 5.40168762e-01 4.42096323e-01 3.11369330e-01\n",
            "  3.25175703e-01 4.99775589e-01 6.55854285e-01 6.67474866e-01\n",
            "  6.51143074e-01 5.85777879e-01 5.19555330e-01 3.13922167e-01\n",
            "  1.59331143e-01 1.06282264e-01]\n",
            " [4.14268881e-01 4.73589331e-01 3.98608565e-01 2.63227761e-01\n",
            "  2.04895526e-01 1.04095519e-01 1.17869973e-02 2.66960263e-03\n",
            "  1.20985508e-03 7.70807266e-04 6.89476728e-04 6.57558441e-04\n",
            "  6.84082508e-04 1.03220344e-03 2.45895982e-03 4.83235717e-03\n",
            "  1.19163990e-02 6.23298287e-02 3.11038435e-01 5.78185380e-01\n",
            "  5.80291986e-01 4.74370778e-01 1.59782737e-01 3.66736054e-02\n",
            "  2.03793049e-02 1.28349960e-02 9.82403755e-03 8.95088911e-03\n",
            "  6.14303350e-03 7.89642334e-03]\n",
            " [1.77291930e-02 1.33655071e-02 1.63083673e-02 5.17262220e-02\n",
            "  2.88626552e-01 7.23518610e-01 8.23842227e-01 8.26515317e-01\n",
            "  7.68147230e-01 5.53964376e-01 4.24741507e-01 3.96472037e-01\n",
            "  3.34866405e-01 3.06914628e-01 2.32023865e-01 3.03099155e-02\n",
            "  5.07393479e-03 2.12571025e-03 1.36086345e-03 1.02248788e-03\n",
            "  9.17732716e-04 1.01915002e-03 1.39409304e-03 2.07000971e-03\n",
            "  4.56741452e-03 1.52092278e-02 3.99701595e-02 1.37174964e-01\n",
            "  4.48029220e-01 6.95184827e-01]\n",
            " [5.94627380e-01 6.70264304e-01 7.67562270e-01 6.76684916e-01\n",
            "  5.20274997e-01 6.18549287e-01 6.68444514e-01 6.12444758e-01\n",
            "  3.97987813e-01 2.58573800e-01 2.50659466e-01 1.24856412e-01\n",
            "  8.44986439e-02 1.68868482e-01 3.11887562e-01 4.00249749e-01\n",
            "  4.44681644e-01 4.23862100e-01 3.49795163e-01 2.59743512e-01\n",
            "  1.53196961e-01 1.29034311e-01 5.05130589e-02 2.18984783e-02\n",
            "  1.05980635e-02 4.10464406e-03 3.78596783e-03 5.94043732e-03\n",
            "  9.19950008e-03 1.40823722e-02]\n",
            " [2.03213096e-03 1.26633048e-03 9.74059105e-04 1.03563070e-03\n",
            "  1.77773833e-03 3.82697582e-03 5.97426295e-03 7.18069077e-03\n",
            "  6.87772036e-03 5.83681464e-03 4.61894274e-03 3.07136774e-03\n",
            "  1.81496143e-03 8.93652439e-04 6.36965036e-04 6.58750534e-04\n",
            "  6.41971827e-04 6.47842884e-04 9.44435596e-04 1.82363391e-03\n",
            "  3.31825018e-03 4.38761711e-03 5.30761480e-03 7.67987967e-03\n",
            "  1.17422938e-02 1.14104748e-02 3.74916196e-03 1.76581740e-03\n",
            "  2.44638324e-03 4.97475266e-03]\n",
            " [7.90861249e-03 1.45353973e-02 1.71033740e-02 7.72696733e-03\n",
            "  5.99631667e-03 6.29076362e-03 5.27867675e-03 5.80254197e-03\n",
            "  5.87379932e-03 6.01845980e-03 1.73208714e-02 8.56643319e-02\n",
            "  2.17579305e-01 3.38168979e-01 3.78725529e-01 1.75162464e-01\n",
            "  7.81519115e-02 5.77444434e-02 2.98220515e-02 1.74787939e-02\n",
            "  1.95106864e-02 6.85161352e-03 1.64532661e-03 1.84091926e-03\n",
            "  3.05742025e-03 1.01841986e-02 8.62625539e-02 4.86141056e-01\n",
            "  8.06641579e-01 8.52132797e-01]\n",
            " [5.91040194e-01 4.34882194e-01 2.17586547e-01 3.57542932e-02\n",
            "  3.01522017e-03 8.80688429e-04 7.72297382e-04 7.94470310e-04\n",
            "  9.40948725e-04 1.68707967e-03 2.93213129e-03 2.84963846e-03\n",
            "  2.50098109e-03 3.26839089e-03 6.20791316e-03 1.22291446e-02\n",
            "  2.39060521e-02 6.93745911e-02 2.37304658e-01 3.95185769e-01\n",
            "  2.98879504e-01 1.20161384e-01 2.01844275e-02 6.55189157e-03\n",
            "  6.03848696e-03 2.86707282e-03 1.96722150e-03 2.45395303e-03\n",
            "  4.17685509e-03 9.07629728e-03]\n",
            " [1.89951956e-02 1.97830796e-02 3.92414629e-02 1.53069109e-01\n",
            "  5.82502246e-01 9.08499360e-01 9.09489751e-01 8.82561207e-01\n",
            "  8.69460702e-01 6.06234133e-01 1.02088302e-01 1.76408887e-02\n",
            "  8.02698731e-03 3.74647975e-03 3.70699167e-03 4.14353609e-03\n",
            "  3.34602594e-03 3.75106931e-03 4.53615189e-03 4.05353308e-03\n",
            "  4.06530499e-03 4.39372659e-03 4.28655744e-03 5.36265969e-03\n",
            "  7.80436397e-03 7.85824656e-03 7.24121928e-03 9.76875424e-03\n",
            "  1.77162886e-02 3.33622098e-02]\n",
            " [2.97532678e-02 2.18666494e-02 2.04195678e-02 3.35586667e-02\n",
            "  6.40361309e-02 9.86926854e-02 1.10333145e-01 7.22166896e-02\n",
            "  3.14231813e-02 1.21520162e-02 5.02404571e-03 3.24699283e-03\n",
            "  3.54239345e-03 4.69961762e-03 5.46130538e-03 1.04848146e-02\n",
            "  2.40847468e-02 1.77536011e-02 1.23596489e-02 1.19255483e-02\n",
            "  1.08603835e-02 9.40740108e-03 8.36265087e-03 8.07580352e-03\n",
            "  9.20048356e-03 1.44761503e-02 2.00871825e-02 2.51174271e-02\n",
            "  3.01539898e-02 2.95918882e-02]\n",
            " [4.53946590e-02 4.61387932e-02 3.09209228e-02 1.84732378e-02\n",
            "  1.46642029e-02 1.40196681e-02 1.83748305e-02 2.03973353e-02\n",
            "  1.65451765e-02 1.41823292e-02 1.38951242e-02 1.44568980e-02\n",
            "  2.47662365e-02 1.05103731e-01 5.89812398e-02 6.62389398e-03\n",
            "  3.99416685e-03 3.02368402e-03 3.87802720e-03 6.29162788e-03\n",
            "  8.25783610e-03 8.17555189e-03 7.70702958e-03 7.69555569e-03\n",
            "  1.05766887e-02 1.93418656e-02 3.12899761e-02 5.55836633e-02\n",
            "  7.21558630e-02 6.29695132e-02]]\n",
            "a==> (33, 30) [[0 0 0 0 0 0 0 0 0 0 0 0 0 0 0 0 0 0 0 0 0 0 0 0 0 0 0 0 1 1]\n",
            " [1 1 1 1 1 1 1 1 1 0 0 0 0 0 0 0 0 0 0 0 0 0 1 1 1 1 1 1 1 1]\n",
            " [1 1 1 0 0 0 0 1 1 1 1 1 1 1 1 1 1 1 1 1 0 0 0 0 0 0 0 0 0 0]\n",
            " [0 0 0 0 0 0 0 0 0 0 0 0 0 0 0 0 0 0 0 0 0 0 0 0 0 0 0 0 0 0]\n",
            " [0 0 0 0 0 0 0 0 0 0 0 0 0 0 0 0 0 0 0 0 0 0 0 0 0 0 0 0 0 0]\n",
            " [0 0 0 0 0 0 0 0 0 0 0 0 0 0 0 0 0 1 1 1 1 1 1 1 1 1 1 1 1 1]\n",
            " [1 1 1 1 1 1 1 1 1 1 1 1 1 1 0 0 0 0 0 0 0 0 0 0 0 0 0 0 0 0]\n",
            " [0 0 0 0 0 0 0 0 0 1 1 1 1 1 1 1 1 1 1 1 1 0 0 0 0 1 1 1 1 1]\n",
            " [1 1 1 1 1 1 0 0 0 0 0 0 0 0 0 0 0 0 0 0 0 0 0 0 1 1 1 1 1 1]\n",
            " [1 1 1 1 1 1 1 1 1 1 1 1 1 1 1 0 0 0 0 0 0 0 0 0 0 0 0 0 0 0]\n",
            " [0 0 0 0 0 0 0 0 0 0 0 0 0 0 0 0 0 0 0 0 0 0 0 0 0 0 0 0 0 0]\n",
            " [0 0 0 0 0 0 0 0 0 0 0 0 0 0 0 0 0 0 0 0 0 0 0 0 0 0 0 0 0 0]\n",
            " [0 0 0 0 0 0 0 0 0 0 0 0 0 0 0 0 0 0 0 0 0 0 0 0 0 0 0 0 0 0]\n",
            " [0 0 0 0 0 0 0 0 0 1 1 1 1 1 1 1 1 1 1 1 0 0 0 0 0 0 0 0 0 0]\n",
            " [0 0 0 0 0 1 1 1 1 1 1 1 1 1 1 0 0 0 0 0 0 0 0 0 0 0 0 0 0 0]\n",
            " [0 0 0 0 1 1 1 1 1 1 1 1 1 1 1 1 1 1 0 0 0 0 0 0 0 0 0 0 0 0]\n",
            " [0 0 0 0 0 0 0 0 0 0 0 0 0 0 0 0 0 0 0 0 0 0 0 0 0 0 0 0 0 0]\n",
            " [0 0 0 0 0 0 0 0 0 0 0 0 0 0 0 0 0 0 0 0 0 0 0 0 0 0 0 0 0 0]\n",
            " [0 0 0 0 0 0 0 0 0 0 0 0 0 0 0 0 0 0 0 0 0 0 0 0 0 0 0 0 0 0]\n",
            " [0 0 0 0 0 0 0 0 0 0 0 0 0 0 0 0 0 0 0 0 0 0 0 1 1 1 1 1 1 1]\n",
            " [1 0 0 0 0 0 0 0 0 0 0 0 0 1 1 1 1 1 1 1 0 0 0 0 0 0 1 1 1 1]\n",
            " [0 0 0 0 0 0 0 0 0 0 0 0 0 0 0 0 0 0 0 0 0 0 0 0 0 0 0 0 0 0]\n",
            " [0 0 0 0 0 0 0 0 0 0 0 0 0 0 0 0 0 0 0 0 0 0 0 0 0 0 0 0 0 0]\n",
            " [0 0 0 1 1 1 1 1 1 1 1 1 1 1 1 1 1 1 1 0 0 0 0 0 0 0 0 0 0 0]\n",
            " [0 0 0 0 0 0 0 0 0 0 0 0 0 0 0 0 0 1 1 1 1 1 0 0 0 0 0 0 0 0]\n",
            " [0 0 0 0 0 1 1 1 1 1 1 1 0 0 0 0 0 0 0 0 0 0 0 0 0 0 1 1 1 1]\n",
            " [1 1 1 1 1 1 1 1 1 1 0 0 0 0 0 0 0 0 0 0 0 0 0 0 0 0 0 0 0 0]\n",
            " [0 0 0 0 0 0 0 0 0 0 0 0 0 0 0 0 0 0 0 0 0 0 0 0 0 0 0 0 0 0]\n",
            " [0 0 0 0 0 0 0 0 0 0 0 0 0 0 0 0 0 0 0 0 0 0 0 0 0 0 0 1 1 1]\n",
            " [1 1 1 0 0 0 0 0 0 0 0 0 0 0 0 0 1 1 1 1 1 1 0 0 0 0 0 0 0 0]\n",
            " [0 0 0 0 1 1 1 1 1 1 0 0 0 0 0 0 0 0 0 0 0 0 0 0 0 0 0 0 0 0]\n",
            " [0 0 0 0 0 0 0 0 0 0 0 0 0 0 0 0 0 0 0 0 0 0 0 0 0 0 0 0 0 0]\n",
            " [0 0 0 0 0 0 0 0 0 0 0 0 0 0 0 0 0 0 0 0 0 0 0 0 0 0 0 0 0 0]]\n",
            "\n",
            "  MAE: 0.15450747365207235\n",
            "*********Starting left model for unseen  3\n",
            "TRAIN x,y (410, 30, 9) (410, 30, 1)\n",
            "Epoch 1/10\n",
            "410/410 [==============================] - 3s 7ms/step - loss: 0.5978 - acc: 0.6219\n",
            "Epoch 2/10\n",
            "410/410 [==============================] - 1s 3ms/step - loss: 0.3118 - acc: 0.8920\n",
            "Epoch 3/10\n",
            "410/410 [==============================] - 1s 3ms/step - loss: 0.1873 - acc: 0.9193\n",
            "Epoch 4/10\n",
            "410/410 [==============================] - 1s 3ms/step - loss: 0.1628 - acc: 0.9384\n",
            "Epoch 5/10\n",
            "410/410 [==============================] - 1s 3ms/step - loss: 0.1449 - acc: 0.9386\n",
            "Epoch 6/10\n",
            "410/410 [==============================] - 1s 3ms/step - loss: 0.1346 - acc: 0.9480\n",
            "Epoch 7/10\n",
            "410/410 [==============================] - 1s 3ms/step - loss: 0.1250 - acc: 0.9515\n",
            "Epoch 8/10\n",
            "410/410 [==============================] - 1s 3ms/step - loss: 0.1179 - acc: 0.9554\n",
            "Epoch 9/10\n",
            "410/410 [==============================] - 1s 3ms/step - loss: 0.1097 - acc: 0.9572\n",
            "Epoch 10/10\n",
            "410/410 [==============================] - 1s 3ms/step - loss: 0.1028 - acc: 0.9607\n",
            "TEST x,y (48, 30, 9) (48, 30, 1)\n",
            "48/48 [==============================] - 0s 10ms/step\n",
            "TESTING ACCURACY with unseenid: 3 0.8506944378217062\n",
            "b==> (48, 30) [[0.00477338 0.00546408 0.00571877 ... 0.38747802 0.27225325 0.13371068]\n",
            " [0.47083038 0.53515744 0.44396693 ... 0.19779325 0.0867236  0.06683961]\n",
            " [0.04122123 0.04242527 0.05833104 ... 0.17788425 0.12986037 0.08082116]\n",
            " ...\n",
            " [0.00539625 0.00418237 0.00352591 ... 0.00151438 0.0018087  0.00275469]\n",
            " [0.03173912 0.0393357  0.04374894 ... 0.02319357 0.0369758  0.05616325]\n",
            " [0.45015058 0.6414522  0.65825874 ... 0.3368798  0.21464473 0.07598981]]\n",
            "a==> (48, 30) [[0 0 0 ... 1 1 1]\n",
            " [1 1 1 ... 0 0 0]\n",
            " [0 0 0 ... 1 1 1]\n",
            " ...\n",
            " [0 0 0 ... 0 0 0]\n",
            " [0 0 0 ... 0 0 0]\n",
            " [0 1 1 ... 1 1 1]]\n",
            "\n",
            "  MAE: 0.1692000509964095\n",
            "*********Starting left model for unseen  4\n",
            "TRAIN x,y (395, 30, 9) (395, 30, 1)\n",
            "Epoch 1/10\n",
            "395/395 [==============================] - 3s 8ms/step - loss: 0.6051 - acc: 0.6619\n",
            "Epoch 2/10\n",
            "395/395 [==============================] - 1s 3ms/step - loss: 0.2940 - acc: 0.8931\n",
            "Epoch 3/10\n",
            "395/395 [==============================] - 1s 3ms/step - loss: 0.1902 - acc: 0.9224\n",
            "Epoch 4/10\n",
            "395/395 [==============================] - 1s 3ms/step - loss: 0.1587 - acc: 0.9412\n",
            "Epoch 5/10\n",
            "395/395 [==============================] - 1s 3ms/step - loss: 0.1439 - acc: 0.9414\n",
            "Epoch 6/10\n",
            "395/395 [==============================] - 1s 3ms/step - loss: 0.1300 - acc: 0.9512\n",
            "Epoch 7/10\n",
            "395/395 [==============================] - 1s 3ms/step - loss: 0.1209 - acc: 0.9543\n",
            "Epoch 8/10\n",
            "395/395 [==============================] - 1s 3ms/step - loss: 0.1126 - acc: 0.9554\n",
            "Epoch 9/10\n",
            "395/395 [==============================] - 1s 3ms/step - loss: 0.1052 - acc: 0.9606\n",
            "Epoch 10/10\n",
            "395/395 [==============================] - 1s 3ms/step - loss: 0.0955 - acc: 0.9651\n",
            "TEST x,y (63, 30, 9) (63, 30, 1)\n",
            "63/63 [==============================] - 1s 10ms/step\n",
            "TESTING ACCURACY with unseenid: 4 0.8386243212790716\n",
            "b==> (63, 30) [[0.04327267 0.04999518 0.0486936  ... 0.03969643 0.02214605 0.03449365]\n",
            " [0.40142846 0.6462376  0.7802918  ... 0.8764277  0.85027343 0.7898374 ]\n",
            " [0.00643328 0.00608018 0.00645563 ... 0.0014452  0.00290751 0.00880858]\n",
            " ...\n",
            " [0.23407543 0.17246562 0.13476536 ... 0.06440672 0.04955181 0.0381988 ]\n",
            " [0.2832842  0.34618634 0.5301419  ... 0.06138948 0.04846019 0.05698088]\n",
            " [0.6792798  0.7654332  0.7794497  ... 0.10979277 0.06788455 0.0467326 ]]\n",
            "a==> (63, 30) [[0 0 0 ... 0 0 0]\n",
            " [0 0 1 ... 1 1 1]\n",
            " [0 0 0 ... 0 0 0]\n",
            " ...\n",
            " [0 0 0 ... 0 0 0]\n",
            " [0 0 0 ... 0 0 0]\n",
            " [1 1 1 ... 0 0 0]]\n",
            "\n",
            "  MAE: 0.2111874175371317\n",
            "*********Starting left model for unseen  5\n",
            "TRAIN x,y (213, 30, 9) (213, 30, 1)\n",
            "Epoch 1/10\n",
            "213/213 [==============================] - 3s 14ms/step - loss: 0.6503 - acc: 0.6596\n",
            "Epoch 2/10\n",
            "213/213 [==============================] - 1s 3ms/step - loss: 0.5224 - acc: 0.8340\n",
            "Epoch 3/10\n",
            "213/213 [==============================] - 1s 3ms/step - loss: 0.3863 - acc: 0.8504\n",
            "Epoch 4/10\n",
            "213/213 [==============================] - 1s 3ms/step - loss: 0.3408 - acc: 0.8501\n",
            "Epoch 5/10\n",
            "213/213 [==============================] - 1s 3ms/step - loss: 0.3068 - acc: 0.8684\n",
            "Epoch 6/10\n",
            "213/213 [==============================] - 1s 3ms/step - loss: 0.2898 - acc: 0.8814\n",
            "Epoch 7/10\n",
            "213/213 [==============================] - 1s 3ms/step - loss: 0.2751 - acc: 0.8798\n",
            "Epoch 8/10\n",
            "213/213 [==============================] - 1s 3ms/step - loss: 0.2620 - acc: 0.8906\n",
            "Epoch 9/10\n",
            "213/213 [==============================] - 1s 3ms/step - loss: 0.2488 - acc: 0.8998\n",
            "Epoch 10/10\n",
            "213/213 [==============================] - 1s 3ms/step - loss: 0.2366 - acc: 0.9013\n",
            "TEST x,y (245, 30, 9) (245, 30, 1)\n",
            "245/245 [==============================] - 1s 3ms/step\n",
            "TESTING ACCURACY with unseenid: 5 0.9755101999458001\n",
            "b==> (245, 30) [[0.02309322 0.01427513 0.00874901 ... 0.14827937 0.2071341  0.2853065 ]\n",
            " [0.05462512 0.05676913 0.08799696 ... 0.3724881  0.30088747 0.24603707]\n",
            " [0.03405976 0.02712736 0.02517408 ... 0.39395356 0.28558832 0.18019435]\n",
            " ...\n",
            " [0.018343   0.0130232  0.00805426 ... 0.00496286 0.0059154  0.0068098 ]\n",
            " [0.02400741 0.01717618 0.01051313 ... 0.00508618 0.00609973 0.00708336]\n",
            " [0.01729071 0.0119994  0.00724137 ... 0.00168421 0.00238314 0.00458799]]\n",
            "a==> (245, 30) [[0 0 0 ... 0 0 0]\n",
            " [0 0 0 ... 0 0 0]\n",
            " [0 0 0 ... 0 0 0]\n",
            " ...\n",
            " [0 0 0 ... 0 0 0]\n",
            " [0 0 0 ... 0 0 0]\n",
            " [0 0 0 ... 0 0 0]]\n",
            "\n",
            "  MAE: 0.049154154096308744\n",
            "*********Starting left model for ALL \n",
            "TRAIN x,y (458, 30, 9) (458, 30, 1)\n",
            "Epoch 1/10\n",
            "458/458 [==============================] - 4s 9ms/step - loss: 0.5700 - acc: 0.7023\n",
            "Epoch 2/10\n",
            "458/458 [==============================] - 1s 3ms/step - loss: 0.2609 - acc: 0.9034\n",
            "Epoch 3/10\n",
            "458/458 [==============================] - 1s 3ms/step - loss: 0.2021 - acc: 0.9181\n",
            "Epoch 4/10\n",
            "458/458 [==============================] - 1s 3ms/step - loss: 0.1749 - acc: 0.9223\n",
            "Epoch 5/10\n",
            "458/458 [==============================] - 1s 3ms/step - loss: 0.1632 - acc: 0.9362\n",
            "Epoch 6/10\n",
            "458/458 [==============================] - 1s 3ms/step - loss: 0.1490 - acc: 0.9385\n",
            "Epoch 7/10\n",
            "458/458 [==============================] - 1s 3ms/step - loss: 0.1399 - acc: 0.9409\n",
            "Epoch 8/10\n",
            "458/458 [==============================] - 1s 3ms/step - loss: 0.1325 - acc: 0.9489\n",
            "Epoch 9/10\n",
            "458/458 [==============================] - 1s 3ms/step - loss: 0.1268 - acc: 0.9485\n",
            "Epoch 10/10\n",
            "458/458 [==============================] - 1s 3ms/step - loss: 0.1162 - acc: 0.9537\n"
          ],
          "name": "stdout"
        }
      ]
    },
    {
      "cell_type": "code",
      "metadata": {
        "id": "DyhQmmgQ6I5H"
      },
      "source": [
        "#right wrist model\n",
        "for b in subj_dict.items():\n",
        "  subjid = b[1]\n",
        "  print(\"*********Starting right model for unseen \",subjid)\n",
        "  model = train_model_unseen_id(r_all_data,r_all_labels,subjid)\n",
        "\n",
        "print(\"*********Starting right model for ALL \")\n",
        "model = train_model_unseen_id(r_all_data,r_all_labels,-1)"
      ],
      "execution_count": null,
      "outputs": []
    },
    {
      "cell_type": "code",
      "metadata": {
        "id": "TjpMRasJFI5r"
      },
      "source": [
        "right_model = train_model_unseen_id(r_all_data,r_all_labels,-1)\n",
        "right_model.save( DATA_PATH +'right_model.h5')\n",
        "\n",
        "left_model = train_model_unseen_id(l_all_data,l_all_labels,-1)\n",
        "left_model.save( DATA_PATH +'left_model.h5')"
      ],
      "execution_count": null,
      "outputs": []
    },
    {
      "cell_type": "code",
      "metadata": {
        "id": "JTQOUGYBGCzD",
        "outputId": "541035a9-7f5e-4d93-b70f-1497c4089dee",
        "colab": {
          "base_uri": "https://localhost:8080/",
          "height": 105
        }
      },
      "source": [
        "from keras.models import load_model\n",
        "import coremltools\n",
        "\n",
        "\n",
        "\n",
        "coreml_model = coremltools.converters.keras.convert(model, input_names=['meanofsensors'], output_names=['outputarray'])\n",
        "\n",
        "coreml_model.author = 'SS'\n",
        "coreml_model.short_description = 'HW Recognition'\n",
        "coreml_model.save(DATA_PATH + 'mymodel.mlmodel')"
      ],
      "execution_count": null,
      "outputs": [
        {
          "output_type": "stream",
          "text": [
            "0 : bidirectional_1_input, <keras.engine.input_layer.InputLayer object at 0x7f18132f09b0>\n",
            "1 : bidirectional_1, <keras.layers.wrappers.Bidirectional object at 0x7f18132f0748>\n",
            "2 : dense_1, <keras.layers.core.Dense object at 0x7f18132e80b8>\n",
            "3 : dense_1__activation__, <keras.layers.core.Activation object at 0x7f180994df28>\n"
          ],
          "name": "stdout"
        }
      ]
    },
    {
      "cell_type": "code",
      "metadata": {
        "id": "gA9D_mtk9w7m",
        "outputId": "f3d2a754-d366-407c-ebc3-040c739bce5e",
        "colab": {
          "base_uri": "https://localhost:8080/",
          "height": 1000
        }
      },
      "source": [
        "a = np.array(r_all_data[1])\n",
        "print(a.shape, a[0])"
      ],
      "execution_count": null,
      "outputs": [
        {
          "output_type": "stream",
          "text": [
            "(68, 30, 9) [[ 1.88175000e-03 -4.09500000e-04 -1.85750000e-04  3.66733000e-01\n",
            "   6.13450875e-01 -6.99113000e-01  1.55877500e-02 -3.58280000e-02\n",
            "  -1.09896250e-02]\n",
            " [-1.30850000e-03 -1.24840000e-03 -7.39200000e-04  3.48488500e-01\n",
            "   6.08275700e-01 -7.12914400e-01  1.53205000e-02 -2.10763000e-02\n",
            "  -8.92690000e-03]\n",
            " [-7.44343434e-04 -8.58585859e-04 -4.17575758e-04  3.38369596e-01\n",
            "   5.96043838e-01 -7.28096364e-01  1.70244444e-02 -1.04121212e-02\n",
            "   5.05242424e-03]\n",
            " [ 3.14534343e-02 -1.72818182e-03  2.52935354e-02  2.99748889e-01\n",
            "   4.83931111e-01 -7.77799192e-01  5.68006869e-01 -1.81196566e-01\n",
            "   1.85521212e-02]\n",
            " [ 1.19933000e-02  5.02250000e-03  2.12920000e-02  1.87731000e-02\n",
            "  -8.78887000e-02 -8.07415200e-01  6.81801100e-01 -2.01247800e-01\n",
            "   2.67322200e-01]\n",
            " [-2.51180808e-02 -2.97754545e-02  3.62323232e-04 -2.92308384e-01\n",
            "  -5.32932626e-01 -7.86119495e-01 -1.31467273e-01 -2.74869697e-01\n",
            "  -3.75727273e-02]\n",
            " [-2.27111111e-03 -1.64329293e-02  2.43695960e-02 -4.01762929e-01\n",
            "  -3.47645152e-01 -8.24641616e-01 -4.11294141e-01 -2.61907071e-01\n",
            "  -3.24427677e-01]\n",
            " [-1.99372000e-02  5.60300000e-03  4.70448000e-02 -4.09962800e-01\n",
            "  -2.28374200e-01 -8.76427300e-01  9.63000000e-02  1.78903300e-01\n",
            "   2.88720200e-01]\n",
            " [ 3.65696970e-03 -5.35255556e-02  2.33105051e-02 -3.72094141e-01\n",
            "  -3.55855758e-01 -8.43824646e-01  6.24593131e-01  4.31938586e-01\n",
            "   9.17353131e-01]\n",
            " [ 2.24440404e-02 -3.92383838e-02  2.02989899e-03 -3.79843434e-01\n",
            "  -5.25161818e-01 -7.48922121e-01  4.23567071e-01  2.90405354e-01\n",
            "   6.64946869e-01]\n",
            " [-1.04288000e-02  3.96880000e-03  9.49480000e-03 -4.02455300e-01\n",
            "  -6.44729600e-01 -6.43374500e-01  1.58875800e-01  4.62410000e-02\n",
            "   6.59470000e-02]\n",
            " [-1.00155556e-02  8.54818182e-03  4.23707071e-03 -4.03165354e-01\n",
            "  -7.05476162e-01 -5.77915657e-01  5.92547475e-02  9.11949495e-03\n",
            "  -1.33653535e-02]\n",
            " [-7.26212121e-03  1.58767677e-03  7.34747475e-03 -3.74464242e-01\n",
            "  -7.16272525e-01 -5.86018283e-01 -4.71206061e-02  8.07220202e-02\n",
            "  -3.18970707e-02]\n",
            " [-1.28490000e-03 -6.05100000e-04  4.99890000e-03 -3.65269300e-01\n",
            "  -6.69033200e-01 -6.42400900e-01 -7.43078000e-02  3.37970000e-03\n",
            "   5.14117000e-02]\n",
            " [-4.28707071e-03  1.26932323e-02  5.72525253e-04 -3.98604141e-01\n",
            "  -5.88414949e-01 -6.99435657e-01 -4.49834343e-02 -7.58656566e-03\n",
            "   1.15767374e-01]\n",
            " [-9.59666667e-03  1.34947475e-02  3.69797980e-03 -4.15084646e-01\n",
            "  -5.69491313e-01 -7.08695960e-01  5.13797980e-02  5.82733333e-02\n",
            "   3.52857576e-02]\n",
            " [-5.80430000e-03  6.87210000e-03  3.91660000e-03 -4.06585900e-01\n",
            "  -5.96358900e-01 -6.92094400e-01  1.69839000e-02  3.22100000e-04\n",
            "  -5.61560000e-03]\n",
            " [ 2.61939394e-03  1.48472727e-02  2.30303030e-03 -4.03744949e-01\n",
            "  -6.10404747e-01 -6.81186263e-01  1.92405051e-02 -4.22326263e-02\n",
            "  -7.40408081e-02]\n",
            " [ 9.11434343e-03 -7.08272727e-03  2.09666667e-02 -4.02437374e-02\n",
            "  -6.54564949e-01 -5.96922828e-01  5.92362626e-02 -2.84772727e-02\n",
            "  -7.21740000e-01]\n",
            " [ 3.62201000e-02 -2.01175000e-02  5.21133000e-02  5.67987900e-01\n",
            "  -4.87428800e-01 -4.94729900e-01  6.41819900e-01 -1.41054400e-01\n",
            "  -1.16597470e+00]\n",
            " [ 4.24443000e-02 -3.15887000e-02  7.31338000e-02  8.05194700e-01\n",
            "  -4.09599300e-01 -3.54918400e-01  1.22282970e+00 -3.60699600e-01\n",
            "  -7.18008700e-01]\n",
            " [ 4.27373737e-03 -2.57837374e-02  3.76218182e-02  8.56093232e-01\n",
            "  -3.98397273e-01 -2.48696465e-01  1.12446273e+00 -4.96365051e-01\n",
            "  -3.17686263e-01]\n",
            " [ 1.44774747e-02 -1.95728283e-02  4.39201010e-02  9.03734444e-01\n",
            "  -2.64786566e-01 -3.05681414e-01  1.20940000e+00 -4.83488889e-01\n",
            "  -4.93435556e-01]\n",
            " [ 4.96840000e-03 -7.93684000e-02  3.50024000e-02  9.00789300e-01\n",
            "  -2.17407300e-01 -3.51031700e-01  4.09721300e-01 -1.52826200e-01\n",
            "  -2.60704100e-01]\n",
            " [-6.20080808e-03 -4.58027273e-02 -2.94796970e-02  9.03000707e-01\n",
            "  -2.07188788e-01 -3.57494747e-01 -5.23792929e-01  1.92064747e-01\n",
            "   8.62228283e-02]\n",
            " [ 6.03246465e-02  3.03998990e-02  1.90764646e-02  8.68430505e-01\n",
            "  -2.56043939e-01 -3.95334747e-01 -2.59564646e-01  8.03017172e-02\n",
            "  -6.22494949e-03]\n",
            " [ 5.26191000e-02  5.52200000e-03  1.78711000e-02  8.82298500e-01\n",
            "  -2.03578000e-01 -3.82008800e-01  3.84399700e-01 -2.05268500e-01\n",
            "  -1.25208000e-02]\n",
            " [ 2.15492929e-02 -5.91737374e-02 -3.52758586e-02  8.71243838e-01\n",
            "  -2.84923131e-01 -3.09169798e-01  5.65468788e-01 -1.52521515e-01\n",
            "   1.79665051e-01]\n",
            " [ 8.61961616e-02 -6.51624242e-02 -2.10033333e-02  8.15108081e-01\n",
            "  -3.64446869e-01 -3.06654848e-01  8.50108081e-02  1.49088889e-01\n",
            "  -1.14383131e-01]\n",
            " [ 1.13238700e-01 -3.25850000e-02  1.69130000e-02  8.16192600e-01\n",
            "  -3.03657700e-01 -3.62934000e-01  6.45360000e-02  2.36203700e-01\n",
            "  -3.36339800e-01]]\n"
          ],
          "name": "stdout"
        }
      ]
    },
    {
      "cell_type": "code",
      "metadata": {
        "id": "xBXUTJY0C7Yp",
        "outputId": "e3f3f693-842b-4b14-ad4f-0ef63525eaf5",
        "colab": {
          "base_uri": "https://localhost:8080/",
          "height": 445
        }
      },
      "source": [
        "#PRAC\n",
        "unseenid = 5\n",
        "data, labels = r_all_data, r_all_labels\n",
        "trainx, trainy = [],[]\n",
        "for a in subj_dict.items():\n",
        "  subjid = a[1]\n",
        "  if subjid != unseenid:\n",
        "    trainx.extend(data[subjid])\n",
        "    trainy.extend(labels[subjid])\n",
        "\n",
        "trainx, trainy = np.array(trainx), np.array(trainy)\n",
        "trainy = trainy[:, :, np.newaxis]\n",
        "print(\"TRAIN x,y\", trainx.shape, trainy.shape)\n",
        "\n",
        "mu_x = np.mean(trainx, axis=0)\n",
        "sigma_x = np.std(trainx, axis=0)\n",
        "trainx = (trainx-mu_x)/sigma_x\n",
        "\n",
        "model = get_RNN_model()\n",
        "model.fit(trainx, trainy, batch_size=32, epochs=2)\n",
        "\n",
        "if unseenid >= 0: #not train with all subj,that is an unseenid available\n",
        "  testx, testy = np.array(data[unseenid]), np.array(labels[unseenid])\n",
        "  testy = testy[:, :, np.newaxis]\n",
        "  testx = (testx-mu_x)/sigma_x\n",
        "  print(\"TEST x,y\", testx.shape, testy.shape)\n",
        "  _, accuracy = model.evaluate(testx, testy, batch_size=32)\n",
        "  print(\"TESTING ACCURACY with unseenid:\", unseenid, accuracy)\n",
        "  testy_pred = model.predict(testx)\n",
        "  b = np.squeeze(testy_pred, axis=2)\n",
        "  a = np.array(labels[unseenid])\n",
        "  print(\"b==>\",b.shape, b)\n",
        "  print(\"a==>\",a.shape, a)\n",
        "  print(\"\\n  MAE:\", mean_absolute_error(a, b))"
      ],
      "execution_count": null,
      "outputs": [
        {
          "output_type": "stream",
          "text": [
            "TRAIN x,y (214, 30, 9) (214, 30, 1)\n",
            "Epoch 1/2\n",
            "7/7 [==============================] - 1s 87ms/step - loss: 0.6419 - accuracy: 0.6611\n",
            "Epoch 2/2\n",
            "7/7 [==============================] - 1s 84ms/step - loss: 0.5247 - accuracy: 0.7988\n",
            "TEST x,y (246, 30, 9) (246, 30, 1)\n",
            "8/8 [==============================] - 0s 12ms/step - loss: 0.2857 - accuracy: 0.9466\n",
            "TESTING ACCURACY with unseenid: 5 0.9466124773025513\n",
            "b==> (246, 30) [[0.18191826 0.17178833 0.16548488 ... 0.21646753 0.28981584 0.34182948]\n",
            " [0.35072333 0.31805506 0.26409507 ... 0.17849317 0.19075885 0.25719333]\n",
            " [0.4080287  0.3820942  0.3833681  ... 0.18208554 0.19578779 0.26048723]\n",
            " ...\n",
            " [0.11093304 0.09558859 0.0832777  ... 0.11037618 0.12687504 0.14208916]\n",
            " [0.10780212 0.09330711 0.08171228 ... 0.10862166 0.1245625  0.14115855]\n",
            " [0.11208293 0.09665805 0.08422342 ... 0.13503307 0.15787236 0.16430743]]\n",
            "a==> (246, 30) [[0 0 0 ... 0 0 1]\n",
            " [1 1 1 ... 0 0 0]\n",
            " [0 0 0 ... 0 0 0]\n",
            " ...\n",
            " [0 0 0 ... 0 0 0]\n",
            " [0 0 0 ... 0 0 0]\n",
            " [0 0 0 ... 0 0 0]]\n",
            "\n",
            "  MAE: 0.22788119947078433\n"
          ],
          "name": "stdout"
        }
      ]
    },
    {
      "cell_type": "code",
      "metadata": {
        "id": "U01onrtvDlcR",
        "outputId": "3c8e8023-15ec-488e-c9f9-8aa42e35b41d",
        "colab": {
          "base_uri": "https://localhost:8080/",
          "height": 136
        }
      },
      "source": [
        "#PRAC\n",
        "b[2]"
      ],
      "execution_count": null,
      "outputs": [
        {
          "output_type": "execute_result",
          "data": {
            "text/plain": [
              "array([0.4080287 , 0.3820942 , 0.3833681 , 0.42438504, 0.45861602,\n",
              "       0.45025596, 0.43466216, 0.4126091 , 0.3859394 , 0.3559332 ,\n",
              "       0.31626064, 0.27682197, 0.226796  , 0.18205822, 0.202808  ,\n",
              "       0.17111894, 0.1433286 , 0.18324238, 0.20787677, 0.25436586,\n",
              "       0.31577864, 0.300775  , 0.26714414, 0.24058115, 0.22277051,\n",
              "       0.20816603, 0.19575971, 0.18208554, 0.19578779, 0.26048723],\n",
              "      dtype=float32)"
            ]
          },
          "metadata": {
            "tags": []
          },
          "execution_count": 35
        }
      ]
    },
    {
      "cell_type": "code",
      "metadata": {
        "id": "1XYsFHJbDzkR",
        "outputId": "2d0699a0-e5ef-45a2-951e-473a40dd23ba",
        "colab": {
          "base_uri": "https://localhost:8080/",
          "height": 51
        }
      },
      "source": [
        "a[2]"
      ],
      "execution_count": null,
      "outputs": [
        {
          "output_type": "execute_result",
          "data": {
            "text/plain": [
              "array([0, 0, 0, 0, 0, 0, 0, 0, 0, 0, 0, 0, 0, 0, 0, 0, 0, 0, 0, 0, 1, 1,\n",
              "       1, 1, 1, 1, 1, 0, 0, 0])"
            ]
          },
          "metadata": {
            "tags": []
          },
          "execution_count": 36
        }
      ]
    },
    {
      "cell_type": "code",
      "metadata": {
        "id": "a_OTfv0990hD",
        "outputId": "9cdc9965-4579-461a-a264-8913b04e31cf",
        "colab": {
          "base_uri": "https://localhost:8080/",
          "height": 633
        }
      },
      "source": [
        "y_actual = np.array(r_all_labels[5])\n",
        "y_pred = md.predict(y_actual)\n"
      ],
      "execution_count": null,
      "outputs": [
        {
          "output_type": "error",
          "ename": "ValueError",
          "evalue": "ignored",
          "traceback": [
            "\u001b[0;31m---------------------------------------------------------------------------\u001b[0m",
            "\u001b[0;31mValueError\u001b[0m                                Traceback (most recent call last)",
            "\u001b[0;32m<ipython-input-137-98fda96272ed>\u001b[0m in \u001b[0;36m<module>\u001b[0;34m()\u001b[0m\n\u001b[1;32m      1\u001b[0m \u001b[0my_actual\u001b[0m \u001b[0;34m=\u001b[0m \u001b[0mnp\u001b[0m\u001b[0;34m.\u001b[0m\u001b[0marray\u001b[0m\u001b[0;34m(\u001b[0m\u001b[0mr_all_labels\u001b[0m\u001b[0;34m[\u001b[0m\u001b[0;36m5\u001b[0m\u001b[0;34m]\u001b[0m\u001b[0;34m)\u001b[0m\u001b[0;34m\u001b[0m\u001b[0;34m\u001b[0m\u001b[0m\n\u001b[0;32m----> 2\u001b[0;31m \u001b[0my_pred\u001b[0m \u001b[0;34m=\u001b[0m \u001b[0mmd\u001b[0m\u001b[0;34m.\u001b[0m\u001b[0mpredict\u001b[0m\u001b[0;34m(\u001b[0m\u001b[0my_actual\u001b[0m\u001b[0;34m)\u001b[0m\u001b[0;34m\u001b[0m\u001b[0;34m\u001b[0m\u001b[0m\n\u001b[0m",
            "\u001b[0;32m/usr/local/lib/python3.6/dist-packages/tensorflow/python/keras/engine/training.py\u001b[0m in \u001b[0;36m_method_wrapper\u001b[0;34m(self, *args, **kwargs)\u001b[0m\n\u001b[1;32m     85\u001b[0m       raise ValueError('{} is not supported in multi-worker mode.'.format(\n\u001b[1;32m     86\u001b[0m           method.__name__))\n\u001b[0;32m---> 87\u001b[0;31m     \u001b[0;32mreturn\u001b[0m \u001b[0mmethod\u001b[0m\u001b[0;34m(\u001b[0m\u001b[0mself\u001b[0m\u001b[0;34m,\u001b[0m \u001b[0;34m*\u001b[0m\u001b[0margs\u001b[0m\u001b[0;34m,\u001b[0m \u001b[0;34m**\u001b[0m\u001b[0mkwargs\u001b[0m\u001b[0;34m)\u001b[0m\u001b[0;34m\u001b[0m\u001b[0;34m\u001b[0m\u001b[0m\n\u001b[0m\u001b[1;32m     88\u001b[0m \u001b[0;34m\u001b[0m\u001b[0m\n\u001b[1;32m     89\u001b[0m   return tf_decorator.make_decorator(\n",
            "\u001b[0;32m/usr/local/lib/python3.6/dist-packages/tensorflow/python/keras/engine/training.py\u001b[0m in \u001b[0;36mpredict\u001b[0;34m(self, x, batch_size, verbose, steps, callbacks, max_queue_size, workers, use_multiprocessing)\u001b[0m\n\u001b[1;32m   1201\u001b[0m           \u001b[0;32mfor\u001b[0m \u001b[0mstep\u001b[0m \u001b[0;32min\u001b[0m \u001b[0mdata_handler\u001b[0m\u001b[0;34m.\u001b[0m\u001b[0msteps\u001b[0m\u001b[0;34m(\u001b[0m\u001b[0;34m)\u001b[0m\u001b[0;34m:\u001b[0m\u001b[0;34m\u001b[0m\u001b[0;34m\u001b[0m\u001b[0m\n\u001b[1;32m   1202\u001b[0m             \u001b[0mcallbacks\u001b[0m\u001b[0;34m.\u001b[0m\u001b[0mon_predict_batch_begin\u001b[0m\u001b[0;34m(\u001b[0m\u001b[0mstep\u001b[0m\u001b[0;34m)\u001b[0m\u001b[0;34m\u001b[0m\u001b[0;34m\u001b[0m\u001b[0m\n\u001b[0;32m-> 1203\u001b[0;31m             \u001b[0mtmp_batch_outputs\u001b[0m \u001b[0;34m=\u001b[0m \u001b[0mpredict_function\u001b[0m\u001b[0;34m(\u001b[0m\u001b[0miterator\u001b[0m\u001b[0;34m)\u001b[0m\u001b[0;34m\u001b[0m\u001b[0;34m\u001b[0m\u001b[0m\n\u001b[0m\u001b[1;32m   1204\u001b[0m             \u001b[0;31m# Catch OutOfRangeError for Datasets of unknown size.\u001b[0m\u001b[0;34m\u001b[0m\u001b[0;34m\u001b[0m\u001b[0;34m\u001b[0m\u001b[0m\n\u001b[1;32m   1205\u001b[0m             \u001b[0;31m# This blocks until the batch has finished executing.\u001b[0m\u001b[0;34m\u001b[0m\u001b[0;34m\u001b[0m\u001b[0;34m\u001b[0m\u001b[0m\n",
            "\u001b[0;32m/usr/local/lib/python3.6/dist-packages/tensorflow/python/eager/def_function.py\u001b[0m in \u001b[0;36m__call__\u001b[0;34m(self, *args, **kwds)\u001b[0m\n\u001b[1;32m    578\u001b[0m         \u001b[0mxla_context\u001b[0m\u001b[0;34m.\u001b[0m\u001b[0mExit\u001b[0m\u001b[0;34m(\u001b[0m\u001b[0;34m)\u001b[0m\u001b[0;34m\u001b[0m\u001b[0;34m\u001b[0m\u001b[0m\n\u001b[1;32m    579\u001b[0m     \u001b[0;32melse\u001b[0m\u001b[0;34m:\u001b[0m\u001b[0;34m\u001b[0m\u001b[0;34m\u001b[0m\u001b[0m\n\u001b[0;32m--> 580\u001b[0;31m       \u001b[0mresult\u001b[0m \u001b[0;34m=\u001b[0m \u001b[0mself\u001b[0m\u001b[0;34m.\u001b[0m\u001b[0m_call\u001b[0m\u001b[0;34m(\u001b[0m\u001b[0;34m*\u001b[0m\u001b[0margs\u001b[0m\u001b[0;34m,\u001b[0m \u001b[0;34m**\u001b[0m\u001b[0mkwds\u001b[0m\u001b[0;34m)\u001b[0m\u001b[0;34m\u001b[0m\u001b[0;34m\u001b[0m\u001b[0m\n\u001b[0m\u001b[1;32m    581\u001b[0m \u001b[0;34m\u001b[0m\u001b[0m\n\u001b[1;32m    582\u001b[0m     \u001b[0;32mif\u001b[0m \u001b[0mtracing_count\u001b[0m \u001b[0;34m==\u001b[0m \u001b[0mself\u001b[0m\u001b[0;34m.\u001b[0m\u001b[0m_get_tracing_count\u001b[0m\u001b[0;34m(\u001b[0m\u001b[0;34m)\u001b[0m\u001b[0;34m:\u001b[0m\u001b[0;34m\u001b[0m\u001b[0;34m\u001b[0m\u001b[0m\n",
            "\u001b[0;32m/usr/local/lib/python3.6/dist-packages/tensorflow/python/eager/def_function.py\u001b[0m in \u001b[0;36m_call\u001b[0;34m(self, *args, **kwds)\u001b[0m\n\u001b[1;32m    625\u001b[0m       \u001b[0;31m# This is the first call of __call__, so we have to initialize.\u001b[0m\u001b[0;34m\u001b[0m\u001b[0;34m\u001b[0m\u001b[0;34m\u001b[0m\u001b[0m\n\u001b[1;32m    626\u001b[0m       \u001b[0minitializers\u001b[0m \u001b[0;34m=\u001b[0m \u001b[0;34m[\u001b[0m\u001b[0;34m]\u001b[0m\u001b[0;34m\u001b[0m\u001b[0;34m\u001b[0m\u001b[0m\n\u001b[0;32m--> 627\u001b[0;31m       \u001b[0mself\u001b[0m\u001b[0;34m.\u001b[0m\u001b[0m_initialize\u001b[0m\u001b[0;34m(\u001b[0m\u001b[0margs\u001b[0m\u001b[0;34m,\u001b[0m \u001b[0mkwds\u001b[0m\u001b[0;34m,\u001b[0m \u001b[0madd_initializers_to\u001b[0m\u001b[0;34m=\u001b[0m\u001b[0minitializers\u001b[0m\u001b[0;34m)\u001b[0m\u001b[0;34m\u001b[0m\u001b[0;34m\u001b[0m\u001b[0m\n\u001b[0m\u001b[1;32m    628\u001b[0m     \u001b[0;32mfinally\u001b[0m\u001b[0;34m:\u001b[0m\u001b[0;34m\u001b[0m\u001b[0;34m\u001b[0m\u001b[0m\n\u001b[1;32m    629\u001b[0m       \u001b[0;31m# At this point we know that the initialization is complete (or less\u001b[0m\u001b[0;34m\u001b[0m\u001b[0;34m\u001b[0m\u001b[0;34m\u001b[0m\u001b[0m\n",
            "\u001b[0;32m/usr/local/lib/python3.6/dist-packages/tensorflow/python/eager/def_function.py\u001b[0m in \u001b[0;36m_initialize\u001b[0;34m(self, args, kwds, add_initializers_to)\u001b[0m\n\u001b[1;32m    504\u001b[0m     self._concrete_stateful_fn = (\n\u001b[1;32m    505\u001b[0m         self._stateful_fn._get_concrete_function_internal_garbage_collected(  # pylint: disable=protected-access\n\u001b[0;32m--> 506\u001b[0;31m             *args, **kwds))\n\u001b[0m\u001b[1;32m    507\u001b[0m \u001b[0;34m\u001b[0m\u001b[0m\n\u001b[1;32m    508\u001b[0m     \u001b[0;32mdef\u001b[0m \u001b[0minvalid_creator_scope\u001b[0m\u001b[0;34m(\u001b[0m\u001b[0;34m*\u001b[0m\u001b[0munused_args\u001b[0m\u001b[0;34m,\u001b[0m \u001b[0;34m**\u001b[0m\u001b[0munused_kwds\u001b[0m\u001b[0;34m)\u001b[0m\u001b[0;34m:\u001b[0m\u001b[0;34m\u001b[0m\u001b[0;34m\u001b[0m\u001b[0m\n",
            "\u001b[0;32m/usr/local/lib/python3.6/dist-packages/tensorflow/python/eager/function.py\u001b[0m in \u001b[0;36m_get_concrete_function_internal_garbage_collected\u001b[0;34m(self, *args, **kwargs)\u001b[0m\n\u001b[1;32m   2444\u001b[0m       \u001b[0margs\u001b[0m\u001b[0;34m,\u001b[0m \u001b[0mkwargs\u001b[0m \u001b[0;34m=\u001b[0m \u001b[0;32mNone\u001b[0m\u001b[0;34m,\u001b[0m \u001b[0;32mNone\u001b[0m\u001b[0;34m\u001b[0m\u001b[0;34m\u001b[0m\u001b[0m\n\u001b[1;32m   2445\u001b[0m     \u001b[0;32mwith\u001b[0m \u001b[0mself\u001b[0m\u001b[0;34m.\u001b[0m\u001b[0m_lock\u001b[0m\u001b[0;34m:\u001b[0m\u001b[0;34m\u001b[0m\u001b[0;34m\u001b[0m\u001b[0m\n\u001b[0;32m-> 2446\u001b[0;31m       \u001b[0mgraph_function\u001b[0m\u001b[0;34m,\u001b[0m \u001b[0m_\u001b[0m\u001b[0;34m,\u001b[0m \u001b[0m_\u001b[0m \u001b[0;34m=\u001b[0m \u001b[0mself\u001b[0m\u001b[0;34m.\u001b[0m\u001b[0m_maybe_define_function\u001b[0m\u001b[0;34m(\u001b[0m\u001b[0margs\u001b[0m\u001b[0;34m,\u001b[0m \u001b[0mkwargs\u001b[0m\u001b[0;34m)\u001b[0m\u001b[0;34m\u001b[0m\u001b[0;34m\u001b[0m\u001b[0m\n\u001b[0m\u001b[1;32m   2447\u001b[0m     \u001b[0;32mreturn\u001b[0m \u001b[0mgraph_function\u001b[0m\u001b[0;34m\u001b[0m\u001b[0;34m\u001b[0m\u001b[0m\n\u001b[1;32m   2448\u001b[0m \u001b[0;34m\u001b[0m\u001b[0m\n",
            "\u001b[0;32m/usr/local/lib/python3.6/dist-packages/tensorflow/python/eager/function.py\u001b[0m in \u001b[0;36m_maybe_define_function\u001b[0;34m(self, args, kwargs)\u001b[0m\n\u001b[1;32m   2775\u001b[0m \u001b[0;34m\u001b[0m\u001b[0m\n\u001b[1;32m   2776\u001b[0m       \u001b[0mself\u001b[0m\u001b[0;34m.\u001b[0m\u001b[0m_function_cache\u001b[0m\u001b[0;34m.\u001b[0m\u001b[0mmissed\u001b[0m\u001b[0;34m.\u001b[0m\u001b[0madd\u001b[0m\u001b[0;34m(\u001b[0m\u001b[0mcall_context_key\u001b[0m\u001b[0;34m)\u001b[0m\u001b[0;34m\u001b[0m\u001b[0;34m\u001b[0m\u001b[0m\n\u001b[0;32m-> 2777\u001b[0;31m       \u001b[0mgraph_function\u001b[0m \u001b[0;34m=\u001b[0m \u001b[0mself\u001b[0m\u001b[0;34m.\u001b[0m\u001b[0m_create_graph_function\u001b[0m\u001b[0;34m(\u001b[0m\u001b[0margs\u001b[0m\u001b[0;34m,\u001b[0m \u001b[0mkwargs\u001b[0m\u001b[0;34m)\u001b[0m\u001b[0;34m\u001b[0m\u001b[0;34m\u001b[0m\u001b[0m\n\u001b[0m\u001b[1;32m   2778\u001b[0m       \u001b[0mself\u001b[0m\u001b[0;34m.\u001b[0m\u001b[0m_function_cache\u001b[0m\u001b[0;34m.\u001b[0m\u001b[0mprimary\u001b[0m\u001b[0;34m[\u001b[0m\u001b[0mcache_key\u001b[0m\u001b[0;34m]\u001b[0m \u001b[0;34m=\u001b[0m \u001b[0mgraph_function\u001b[0m\u001b[0;34m\u001b[0m\u001b[0;34m\u001b[0m\u001b[0m\n\u001b[1;32m   2779\u001b[0m       \u001b[0;32mreturn\u001b[0m \u001b[0mgraph_function\u001b[0m\u001b[0;34m,\u001b[0m \u001b[0margs\u001b[0m\u001b[0;34m,\u001b[0m \u001b[0mkwargs\u001b[0m\u001b[0;34m\u001b[0m\u001b[0;34m\u001b[0m\u001b[0m\n",
            "\u001b[0;32m/usr/local/lib/python3.6/dist-packages/tensorflow/python/eager/function.py\u001b[0m in \u001b[0;36m_create_graph_function\u001b[0;34m(self, args, kwargs, override_flat_arg_shapes)\u001b[0m\n\u001b[1;32m   2665\u001b[0m             \u001b[0marg_names\u001b[0m\u001b[0;34m=\u001b[0m\u001b[0marg_names\u001b[0m\u001b[0;34m,\u001b[0m\u001b[0;34m\u001b[0m\u001b[0;34m\u001b[0m\u001b[0m\n\u001b[1;32m   2666\u001b[0m             \u001b[0moverride_flat_arg_shapes\u001b[0m\u001b[0;34m=\u001b[0m\u001b[0moverride_flat_arg_shapes\u001b[0m\u001b[0;34m,\u001b[0m\u001b[0;34m\u001b[0m\u001b[0;34m\u001b[0m\u001b[0m\n\u001b[0;32m-> 2667\u001b[0;31m             capture_by_value=self._capture_by_value),\n\u001b[0m\u001b[1;32m   2668\u001b[0m         \u001b[0mself\u001b[0m\u001b[0;34m.\u001b[0m\u001b[0m_function_attributes\u001b[0m\u001b[0;34m,\u001b[0m\u001b[0;34m\u001b[0m\u001b[0;34m\u001b[0m\u001b[0m\n\u001b[1;32m   2669\u001b[0m         \u001b[0;31m# Tell the ConcreteFunction to clean up its graph once it goes out of\u001b[0m\u001b[0;34m\u001b[0m\u001b[0;34m\u001b[0m\u001b[0;34m\u001b[0m\u001b[0m\n",
            "\u001b[0;32m/usr/local/lib/python3.6/dist-packages/tensorflow/python/framework/func_graph.py\u001b[0m in \u001b[0;36mfunc_graph_from_py_func\u001b[0;34m(name, python_func, args, kwargs, signature, func_graph, autograph, autograph_options, add_control_dependencies, arg_names, op_return_value, collections, capture_by_value, override_flat_arg_shapes)\u001b[0m\n\u001b[1;32m    979\u001b[0m         \u001b[0m_\u001b[0m\u001b[0;34m,\u001b[0m \u001b[0moriginal_func\u001b[0m \u001b[0;34m=\u001b[0m \u001b[0mtf_decorator\u001b[0m\u001b[0;34m.\u001b[0m\u001b[0munwrap\u001b[0m\u001b[0;34m(\u001b[0m\u001b[0mpython_func\u001b[0m\u001b[0;34m)\u001b[0m\u001b[0;34m\u001b[0m\u001b[0;34m\u001b[0m\u001b[0m\n\u001b[1;32m    980\u001b[0m \u001b[0;34m\u001b[0m\u001b[0m\n\u001b[0;32m--> 981\u001b[0;31m       \u001b[0mfunc_outputs\u001b[0m \u001b[0;34m=\u001b[0m \u001b[0mpython_func\u001b[0m\u001b[0;34m(\u001b[0m\u001b[0;34m*\u001b[0m\u001b[0mfunc_args\u001b[0m\u001b[0;34m,\u001b[0m \u001b[0;34m**\u001b[0m\u001b[0mfunc_kwargs\u001b[0m\u001b[0;34m)\u001b[0m\u001b[0;34m\u001b[0m\u001b[0;34m\u001b[0m\u001b[0m\n\u001b[0m\u001b[1;32m    982\u001b[0m \u001b[0;34m\u001b[0m\u001b[0m\n\u001b[1;32m    983\u001b[0m       \u001b[0;31m# invariant: `func_outputs` contains only Tensors, CompositeTensors,\u001b[0m\u001b[0;34m\u001b[0m\u001b[0;34m\u001b[0m\u001b[0;34m\u001b[0m\u001b[0m\n",
            "\u001b[0;32m/usr/local/lib/python3.6/dist-packages/tensorflow/python/eager/def_function.py\u001b[0m in \u001b[0;36mwrapped_fn\u001b[0;34m(*args, **kwds)\u001b[0m\n\u001b[1;32m    439\u001b[0m         \u001b[0;31m# __wrapped__ allows AutoGraph to swap in a converted function. We give\u001b[0m\u001b[0;34m\u001b[0m\u001b[0;34m\u001b[0m\u001b[0;34m\u001b[0m\u001b[0m\n\u001b[1;32m    440\u001b[0m         \u001b[0;31m# the function a weak reference to itself to avoid a reference cycle.\u001b[0m\u001b[0;34m\u001b[0m\u001b[0;34m\u001b[0m\u001b[0;34m\u001b[0m\u001b[0m\n\u001b[0;32m--> 441\u001b[0;31m         \u001b[0;32mreturn\u001b[0m \u001b[0mweak_wrapped_fn\u001b[0m\u001b[0;34m(\u001b[0m\u001b[0;34m)\u001b[0m\u001b[0;34m.\u001b[0m\u001b[0m__wrapped__\u001b[0m\u001b[0;34m(\u001b[0m\u001b[0;34m*\u001b[0m\u001b[0margs\u001b[0m\u001b[0;34m,\u001b[0m \u001b[0;34m**\u001b[0m\u001b[0mkwds\u001b[0m\u001b[0;34m)\u001b[0m\u001b[0;34m\u001b[0m\u001b[0;34m\u001b[0m\u001b[0m\n\u001b[0m\u001b[1;32m    442\u001b[0m     \u001b[0mweak_wrapped_fn\u001b[0m \u001b[0;34m=\u001b[0m \u001b[0mweakref\u001b[0m\u001b[0;34m.\u001b[0m\u001b[0mref\u001b[0m\u001b[0;34m(\u001b[0m\u001b[0mwrapped_fn\u001b[0m\u001b[0;34m)\u001b[0m\u001b[0;34m\u001b[0m\u001b[0;34m\u001b[0m\u001b[0m\n\u001b[1;32m    443\u001b[0m \u001b[0;34m\u001b[0m\u001b[0m\n",
            "\u001b[0;32m/usr/local/lib/python3.6/dist-packages/tensorflow/python/framework/func_graph.py\u001b[0m in \u001b[0;36mwrapper\u001b[0;34m(*args, **kwargs)\u001b[0m\n\u001b[1;32m    966\u001b[0m           \u001b[0;32mexcept\u001b[0m \u001b[0mException\u001b[0m \u001b[0;32mas\u001b[0m \u001b[0me\u001b[0m\u001b[0;34m:\u001b[0m  \u001b[0;31m# pylint:disable=broad-except\u001b[0m\u001b[0;34m\u001b[0m\u001b[0;34m\u001b[0m\u001b[0m\n\u001b[1;32m    967\u001b[0m             \u001b[0;32mif\u001b[0m \u001b[0mhasattr\u001b[0m\u001b[0;34m(\u001b[0m\u001b[0me\u001b[0m\u001b[0;34m,\u001b[0m \u001b[0;34m\"ag_error_metadata\"\u001b[0m\u001b[0;34m)\u001b[0m\u001b[0;34m:\u001b[0m\u001b[0;34m\u001b[0m\u001b[0;34m\u001b[0m\u001b[0m\n\u001b[0;32m--> 968\u001b[0;31m               \u001b[0;32mraise\u001b[0m \u001b[0me\u001b[0m\u001b[0;34m.\u001b[0m\u001b[0mag_error_metadata\u001b[0m\u001b[0;34m.\u001b[0m\u001b[0mto_exception\u001b[0m\u001b[0;34m(\u001b[0m\u001b[0me\u001b[0m\u001b[0;34m)\u001b[0m\u001b[0;34m\u001b[0m\u001b[0;34m\u001b[0m\u001b[0m\n\u001b[0m\u001b[1;32m    969\u001b[0m             \u001b[0;32melse\u001b[0m\u001b[0;34m:\u001b[0m\u001b[0;34m\u001b[0m\u001b[0;34m\u001b[0m\u001b[0m\n\u001b[1;32m    970\u001b[0m               \u001b[0;32mraise\u001b[0m\u001b[0;34m\u001b[0m\u001b[0;34m\u001b[0m\u001b[0m\n",
            "\u001b[0;31mValueError\u001b[0m: in user code:\n\n    /usr/local/lib/python3.6/dist-packages/tensorflow/python/keras/engine/training.py:1082 predict_function  *\n        outputs = self.distribute_strategy.run(\n    /usr/local/lib/python3.6/dist-packages/tensorflow/python/distribute/distribute_lib.py:951 run  **\n        return self._extended.call_for_each_replica(fn, args=args, kwargs=kwargs)\n    /usr/local/lib/python3.6/dist-packages/tensorflow/python/distribute/distribute_lib.py:2290 call_for_each_replica\n        return self._call_for_each_replica(fn, args, kwargs)\n    /usr/local/lib/python3.6/dist-packages/tensorflow/python/distribute/distribute_lib.py:2649 _call_for_each_replica\n        return fn(*args, **kwargs)\n    /usr/local/lib/python3.6/dist-packages/tensorflow/python/keras/engine/training.py:1057 predict_step  **\n        return self(x, training=False)\n    /usr/local/lib/python3.6/dist-packages/tensorflow/python/keras/engine/base_layer.py:885 __call__\n        self.name)\n    /usr/local/lib/python3.6/dist-packages/tensorflow/python/keras/engine/input_spec.py:180 assert_input_compatibility\n        str(x.shape.as_list()))\n\n    ValueError: Input 0 of layer sequential_34 is incompatible with the layer: expected ndim=3, found ndim=2. Full shape received: [None, 30]\n"
          ]
        }
      ]
    },
    {
      "cell_type": "code",
      "metadata": {
        "id": "IcNeSo1v8v6H"
      },
      "source": [
        "a = np.squeeze(y_pred, axis=2).shape"
      ],
      "execution_count": null,
      "outputs": []
    },
    {
      "cell_type": "code",
      "metadata": {
        "id": "EBWyYcGC_3BQ",
        "outputId": "de9193e2-aac2-484c-f55c-287b2df5ee61",
        "colab": {
          "base_uri": "https://localhost:8080/",
          "height": 164
        }
      },
      "source": [
        "a.shape"
      ],
      "execution_count": null,
      "outputs": [
        {
          "output_type": "error",
          "ename": "AttributeError",
          "evalue": "ignored",
          "traceback": [
            "\u001b[0;31m---------------------------------------------------------------------------\u001b[0m",
            "\u001b[0;31mAttributeError\u001b[0m                            Traceback (most recent call last)",
            "\u001b[0;32m<ipython-input-133-d74f1bcdd37c>\u001b[0m in \u001b[0;36m<module>\u001b[0;34m()\u001b[0m\n\u001b[0;32m----> 1\u001b[0;31m \u001b[0ma\u001b[0m\u001b[0;34m.\u001b[0m\u001b[0mshape\u001b[0m\u001b[0;34m\u001b[0m\u001b[0;34m\u001b[0m\u001b[0m\n\u001b[0m",
            "\u001b[0;31mAttributeError\u001b[0m: 'tuple' object has no attribute 'shape'"
          ]
        }
      ]
    },
    {
      "cell_type": "code",
      "metadata": {
        "id": "Y3HUQCK8_M1x"
      },
      "source": [
        "mean_absolute_error(y_pred, b)"
      ],
      "execution_count": null,
      "outputs": []
    },
    {
      "cell_type": "code",
      "metadata": {
        "id": "-Cn5hlNS-gUF",
        "outputId": "7e7ea0f8-cbbb-433a-d3fa-d92bdfb5f41c",
        "colab": {
          "base_uri": "https://localhost:8080/",
          "height": 34
        }
      },
      "source": [
        "np.array(r_all_labels[5]).shape"
      ],
      "execution_count": null,
      "outputs": [
        {
          "output_type": "execute_result",
          "data": {
            "text/plain": [
              "(246, 30)"
            ]
          },
          "metadata": {
            "tags": []
          },
          "execution_count": 124
        }
      ]
    },
    {
      "cell_type": "code",
      "metadata": {
        "id": "hDYamgYIv7b8",
        "outputId": "d20dd64f-f704-4bfc-8621-9b1f16aa1309",
        "colab": {
          "base_uri": "https://localhost:8080/",
          "height": 34
        }
      },
      "source": [
        "lmain = []\n",
        "list1 = [1,2,3]\n",
        "list2 = [4,5,6]\n",
        "\n",
        "lmain.append(list1)\n",
        "lmain"
      ],
      "execution_count": null,
      "outputs": [
        {
          "output_type": "execute_result",
          "data": {
            "text/plain": [
              "[[1, 2, 3]]"
            ]
          },
          "metadata": {
            "tags": []
          },
          "execution_count": 57
        }
      ]
    },
    {
      "cell_type": "code",
      "metadata": {
        "id": "0AJob6ud4kh9",
        "outputId": "2abae46e-edbd-4a01-a2a3-fba0503590dc",
        "colab": {
          "base_uri": "https://localhost:8080/",
          "height": 34
        }
      },
      "source": [
        "lmain.append(list2)\n",
        "lmain"
      ],
      "execution_count": null,
      "outputs": [
        {
          "output_type": "execute_result",
          "data": {
            "text/plain": [
              "[[1, 2, 3], [4, 5, 6]]"
            ]
          },
          "metadata": {
            "tags": []
          },
          "execution_count": 58
        }
      ]
    },
    {
      "cell_type": "code",
      "metadata": {
        "id": "X5PE1PMe4tI0",
        "outputId": "d2a0c976-e1d0-4dc6-97e1-de4c5b6a4bfa",
        "colab": {
          "base_uri": "https://localhost:8080/",
          "height": 34
        }
      },
      "source": [
        "lmain.extend(list2)\n",
        "lmain"
      ],
      "execution_count": null,
      "outputs": [
        {
          "output_type": "execute_result",
          "data": {
            "text/plain": [
              "[[1, 2, 3], [4, 5, 6], 4, 5, 6]"
            ]
          },
          "metadata": {
            "tags": []
          },
          "execution_count": 59
        }
      ]
    },
    {
      "cell_type": "code",
      "metadata": {
        "id": "OWHFFjc35h5y",
        "outputId": "b7ec81cd-c244-4574-e85f-236f68495fd6",
        "colab": {
          "base_uri": "https://localhost:8080/",
          "height": 34
        }
      },
      "source": [
        "tmp_data_list = []\n",
        "res = [[81,82,84,85,89,1],[91,92,94,95,99,1]]\n",
        "\n",
        "#for j in range(i, (i+bunch_size), 1):\n",
        "\n",
        "tmp_data_list.append(res[0][:-1])\n",
        "tmp_data_list"
      ],
      "execution_count": null,
      "outputs": [
        {
          "output_type": "execute_result",
          "data": {
            "text/plain": [
              "[[81, 82, 84, 85, 89]]"
            ]
          },
          "metadata": {
            "tags": []
          },
          "execution_count": 60
        }
      ]
    },
    {
      "cell_type": "code",
      "metadata": {
        "id": "GRNLquLy6ZLh",
        "outputId": "3fa49367-9e80-42d6-f191-25a504a31e05",
        "colab": {
          "base_uri": "https://localhost:8080/",
          "height": 34
        }
      },
      "source": [
        "tmp_data_list.append(res[1][:-1])\n",
        "tmp_data_list"
      ],
      "execution_count": null,
      "outputs": [
        {
          "output_type": "execute_result",
          "data": {
            "text/plain": [
              "[[81, 82, 84, 85, 89], [91, 92, 94, 95, 99]]"
            ]
          },
          "metadata": {
            "tags": []
          },
          "execution_count": 61
        }
      ]
    },
    {
      "cell_type": "code",
      "metadata": {
        "id": "ZIKPQSDPDm8c"
      },
      "source": [
        "lmain = []\n",
        "list1 = [[[1,9],[20,29],[30,39]],[[101,109],[201,209],[301,309]]]\n",
        "\n",
        "list2 = [[[7,9],[80,89],[90,99]],[[701,709],[801,809],[901,909]]]"
      ],
      "execution_count": null,
      "outputs": []
    },
    {
      "cell_type": "code",
      "metadata": {
        "id": "Dqo_N_JmEUsU",
        "outputId": "3838f48d-5a88-44e5-e2f5-7656f63c0364",
        "colab": {
          "base_uri": "https://localhost:8080/",
          "height": 51
        }
      },
      "source": [
        "lmain.append(list1)\n",
        "lmain.append(list2)\n",
        "lmain"
      ],
      "execution_count": null,
      "outputs": [
        {
          "output_type": "execute_result",
          "data": {
            "text/plain": [
              "[[[[1, 9], [20, 29], [30, 39]], [[101, 109], [201, 209], [301, 309]]],\n",
              " [[[7, 9], [80, 89], [90, 99]], [[701, 709], [801, 809], [901, 909]]]]"
            ]
          },
          "metadata": {
            "tags": []
          },
          "execution_count": 63
        }
      ]
    },
    {
      "cell_type": "code",
      "metadata": {
        "id": "7ejPwhUeEXS3",
        "outputId": "99baed02-1271-4c14-bd0e-38c417f90fc6",
        "colab": {
          "base_uri": "https://localhost:8080/",
          "height": 119
        }
      },
      "source": [
        "lmain.extend(list1)\n",
        "lmain.extend(list2)\n",
        "lmain"
      ],
      "execution_count": null,
      "outputs": [
        {
          "output_type": "execute_result",
          "data": {
            "text/plain": [
              "[[[[1, 9], [20, 29], [30, 39]], [[101, 109], [201, 209], [301, 309]]],\n",
              " [[[7, 9], [80, 89], [90, 99]], [[701, 709], [801, 809], [901, 909]]],\n",
              " [[1, 9], [20, 29], [30, 39]],\n",
              " [[101, 109], [201, 209], [301, 309]],\n",
              " [[7, 9], [80, 89], [90, 99]],\n",
              " [[701, 709], [801, 809], [901, 909]]]"
            ]
          },
          "metadata": {
            "tags": []
          },
          "execution_count": 64
        }
      ]
    }
  ]
}